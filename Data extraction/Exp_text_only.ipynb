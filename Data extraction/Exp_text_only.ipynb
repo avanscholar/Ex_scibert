{
 "cells": [
  {
   "cell_type": "code",
   "execution_count": 1,
   "id": "07ffb5b8",
   "metadata": {},
   "outputs": [],
   "source": [
    "#Import basic libraries\n",
    "import pandas as pd\n",
    "import numpy as np"
   ]
  },
  {
   "cell_type": "code",
   "execution_count": 5,
   "id": "180f03e4",
   "metadata": {},
   "outputs": [
    {
     "name": "stdout",
     "output_type": "stream",
     "text": [
      "Shape of data: (5945, 5)\n"
     ]
    },
    {
     "data": {
      "text/html": [
       "<div>\n",
       "<style scoped>\n",
       "    .dataframe tbody tr th:only-of-type {\n",
       "        vertical-align: middle;\n",
       "    }\n",
       "\n",
       "    .dataframe tbody tr th {\n",
       "        vertical-align: top;\n",
       "    }\n",
       "\n",
       "    .dataframe thead th {\n",
       "        text-align: right;\n",
       "    }\n",
       "</style>\n",
       "<table border=\"1\" class=\"dataframe\">\n",
       "  <thead>\n",
       "    <tr style=\"text-align: right;\">\n",
       "      <th></th>\n",
       "      <th>URL</th>\n",
       "      <th>Title</th>\n",
       "      <th>Pub_Name</th>\n",
       "      <th>DOI</th>\n",
       "      <th>Link</th>\n",
       "    </tr>\n",
       "  </thead>\n",
       "  <tbody>\n",
       "    <tr>\n",
       "      <th>0</th>\n",
       "      <td>https://api.elsevier.com/content/article/pii/S...</td>\n",
       "      <td>Homogeneous first-row transition metal catalys...</td>\n",
       "      <td>Tetrahedron</td>\n",
       "      <td>10.1016/j.tet.2021.132473</td>\n",
       "      <td>https://api.elsevier.com/content/article/doi/1...</td>\n",
       "    </tr>\n",
       "    <tr>\n",
       "      <th>1</th>\n",
       "      <td>https://api.elsevier.com/content/article/pii/S...</td>\n",
       "      <td>Selective photoelectrocatalytic tuning of benz...</td>\n",
       "      <td>Applied Catalysis B: Environmental</td>\n",
       "      <td>10.1016/j.apcatb.2020.119868</td>\n",
       "      <td>https://api.elsevier.com/content/article/doi/1...</td>\n",
       "    </tr>\n",
       "    <tr>\n",
       "      <th>2</th>\n",
       "      <td>https://api.elsevier.com/content/article/pii/S...</td>\n",
       "      <td>Light alcohols reforming towards renewable hyd...</td>\n",
       "      <td>Renewable and Sustainable Energy Reviews</td>\n",
       "      <td>10.1016/j.rser.2020.110523</td>\n",
       "      <td>https://api.elsevier.com/content/article/doi/1...</td>\n",
       "    </tr>\n",
       "    <tr>\n",
       "      <th>3</th>\n",
       "      <td>https://api.elsevier.com/content/article/pii/S...</td>\n",
       "      <td>Minimized Pt deposition on CdS simultaneously ...</td>\n",
       "      <td>Applied Surface Science</td>\n",
       "      <td>10.1016/j.apsusc.2021.150446</td>\n",
       "      <td>https://api.elsevier.com/content/article/doi/1...</td>\n",
       "    </tr>\n",
       "    <tr>\n",
       "      <th>4</th>\n",
       "      <td>https://api.elsevier.com/content/article/pii/S...</td>\n",
       "      <td>Boosting photocatalytic hydrogen production co...</td>\n",
       "      <td>Chemical Engineering Journal</td>\n",
       "      <td>10.1016/j.cej.2021.129870</td>\n",
       "      <td>https://api.elsevier.com/content/article/doi/1...</td>\n",
       "    </tr>\n",
       "  </tbody>\n",
       "</table>\n",
       "</div>"
      ],
      "text/plain": [
       "                                                 URL  \\\n",
       "0  https://api.elsevier.com/content/article/pii/S...   \n",
       "1  https://api.elsevier.com/content/article/pii/S...   \n",
       "2  https://api.elsevier.com/content/article/pii/S...   \n",
       "3  https://api.elsevier.com/content/article/pii/S...   \n",
       "4  https://api.elsevier.com/content/article/pii/S...   \n",
       "\n",
       "                                               Title  \\\n",
       "0  Homogeneous first-row transition metal catalys...   \n",
       "1  Selective photoelectrocatalytic tuning of benz...   \n",
       "2  Light alcohols reforming towards renewable hyd...   \n",
       "3  Minimized Pt deposition on CdS simultaneously ...   \n",
       "4  Boosting photocatalytic hydrogen production co...   \n",
       "\n",
       "                                   Pub_Name                           DOI  \\\n",
       "0                               Tetrahedron     10.1016/j.tet.2021.132473   \n",
       "1        Applied Catalysis B: Environmental  10.1016/j.apcatb.2020.119868   \n",
       "2  Renewable and Sustainable Energy Reviews    10.1016/j.rser.2020.110523   \n",
       "3                   Applied Surface Science  10.1016/j.apsusc.2021.150446   \n",
       "4              Chemical Engineering Journal     10.1016/j.cej.2021.129870   \n",
       "\n",
       "                                                Link  \n",
       "0  https://api.elsevier.com/content/article/doi/1...  \n",
       "1  https://api.elsevier.com/content/article/doi/1...  \n",
       "2  https://api.elsevier.com/content/article/doi/1...  \n",
       "3  https://api.elsevier.com/content/article/doi/1...  \n",
       "4  https://api.elsevier.com/content/article/doi/1...  "
      ]
     },
     "execution_count": 5,
     "metadata": {},
     "output_type": "execute_result"
    }
   ],
   "source": [
    "#Access the avaiable full text DOIs\n",
    "df_new = pd.read_csv(r'C:\\Users\\kumar\\OneDrive - IIT Delhi\\CPCB\\PROF. HARI\\doi_6000_withlink.csv')\n",
    "print('Shape of data:',df_new.shape)\n",
    "#Shows the five rows of data frame\n",
    "df_new.head()"
   ]
  },
  {
   "cell_type": "code",
   "execution_count": 6,
   "id": "423644ff",
   "metadata": {},
   "outputs": [],
   "source": [
    "def file_of_exitance():\n",
    "    #Actual index data of avaiable text\n",
    "    actual_index = np.arange(0,df_new.shape[0],1).tolist()\n",
    "    #Access the full text files\n",
    "    special_cases = []  #Define the list of special cases\n",
    "    for a in np.arange(0,df_new.shape[0],1):\n",
    "        #Read the files of text\n",
    "        df = pd.read_csv(r'C:\\Users\\kumar\\OneDrive - IIT Delhi\\CPCB\\PROF. HARI\\data\\{}.csv'.format(a))\n",
    "        if df.shape[0] == 0:\n",
    "            special_cases.append(a)\n",
    "            \n",
    "    #Total number of files with full text availablity\n",
    "    actual_range = [x for x in actual_index if x not in special_cases]\n",
    "    #Final number of text files \n",
    "    print('Number of final text files:',len(actual_range))\n",
    "    \n",
    "    return actual_range"
   ]
  },
  {
   "cell_type": "code",
   "execution_count": 7,
   "id": "febf91f9",
   "metadata": {},
   "outputs": [
    {
     "name": "stdout",
     "output_type": "stream",
     "text": [
      "Number of final text files: 4852\n"
     ]
    }
   ],
   "source": [
    "#Call the function\n",
    "actual_range = file_of_exitance()"
   ]
  },
  {
   "cell_type": "code",
   "execution_count": 10,
   "id": "9f3434bd",
   "metadata": {},
   "outputs": [],
   "source": [
    "def collect_section_name():\n",
    "    #Collection of section name\n",
    "    section_name = []\n",
    "    for i in actual_range:\n",
    "        #Read the files\n",
    "        df = pd.read_csv(r'C:\\Users\\kumar\\OneDrive - IIT Delhi\\CPCB\\PROF. HARI\\data\\{}.csv'.format(i))\n",
    "        for j in range(df.shape[0]):\n",
    "            if str(df.Text[j]) == 'nan' :\n",
    "                section_name.append(df.sections[j])\n",
    "    #frequency count for unique enities\n",
    "    unique, frequency = np.unique(np.array(section_name), return_counts = True)\n",
    "    #Making the data frame\n",
    "    df_unique_counts = pd.DataFrame({'section name' : unique, 'frequency' : frequency})\n",
    "    df_unique_counts = df_unique_counts.sort_values(by='frequency',axis=0, ascending=False)\n",
    "    return df_unique_counts.reset_index(drop = True)"
   ]
  },
  {
   "cell_type": "code",
   "execution_count": 11,
   "id": "f51a9279",
   "metadata": {},
   "outputs": [
    {
     "data": {
      "text/html": [
       "<div>\n",
       "<style scoped>\n",
       "    .dataframe tbody tr th:only-of-type {\n",
       "        vertical-align: middle;\n",
       "    }\n",
       "\n",
       "    .dataframe tbody tr th {\n",
       "        vertical-align: top;\n",
       "    }\n",
       "\n",
       "    .dataframe thead th {\n",
       "        text-align: right;\n",
       "    }\n",
       "</style>\n",
       "<table border=\"1\" class=\"dataframe\">\n",
       "  <thead>\n",
       "    <tr style=\"text-align: right;\">\n",
       "      <th></th>\n",
       "      <th>section name</th>\n",
       "      <th>frequency</th>\n",
       "    </tr>\n",
       "  </thead>\n",
       "  <tbody>\n",
       "    <tr>\n",
       "      <th>0</th>\n",
       "      <td>Results and discussion</td>\n",
       "      <td>2828</td>\n",
       "    </tr>\n",
       "    <tr>\n",
       "      <th>1</th>\n",
       "      <td>Experimental</td>\n",
       "      <td>1521</td>\n",
       "    </tr>\n",
       "    <tr>\n",
       "      <th>2</th>\n",
       "      <td>Materials and methods</td>\n",
       "      <td>1011</td>\n",
       "    </tr>\n",
       "    <tr>\n",
       "      <th>3</th>\n",
       "      <td>Experimental section</td>\n",
       "      <td>510</td>\n",
       "    </tr>\n",
       "    <tr>\n",
       "      <th>4</th>\n",
       "      <td>Results</td>\n",
       "      <td>312</td>\n",
       "    </tr>\n",
       "  </tbody>\n",
       "</table>\n",
       "</div>"
      ],
      "text/plain": [
       "             section name  frequency\n",
       "0  Results and discussion       2828\n",
       "1            Experimental       1521\n",
       "2   Materials and methods       1011\n",
       "3    Experimental section        510\n",
       "4                 Results        312"
      ]
     },
     "execution_count": 11,
     "metadata": {},
     "output_type": "execute_result"
    }
   ],
   "source": [
    "#Call the function\n",
    "df_unique_counts = collect_section_name()\n",
    "\n",
    "#shows the first rows\n",
    "df_unique_counts.head()"
   ]
  },
  {
   "cell_type": "code",
   "execution_count": 12,
   "id": "1b4417f4",
   "metadata": {},
   "outputs": [
    {
     "data": {
      "text/html": [
       "<div>\n",
       "<style scoped>\n",
       "    .dataframe tbody tr th:only-of-type {\n",
       "        vertical-align: middle;\n",
       "    }\n",
       "\n",
       "    .dataframe tbody tr th {\n",
       "        vertical-align: top;\n",
       "    }\n",
       "\n",
       "    .dataframe thead th {\n",
       "        text-align: right;\n",
       "    }\n",
       "</style>\n",
       "<table border=\"1\" class=\"dataframe\">\n",
       "  <thead>\n",
       "    <tr style=\"text-align: right;\">\n",
       "      <th></th>\n",
       "      <th>section name</th>\n",
       "      <th>frequency</th>\n",
       "    </tr>\n",
       "  </thead>\n",
       "  <tbody>\n",
       "    <tr>\n",
       "      <th>0</th>\n",
       "      <td>Results and discussion</td>\n",
       "      <td>2828</td>\n",
       "    </tr>\n",
       "    <tr>\n",
       "      <th>1</th>\n",
       "      <td>Experimental</td>\n",
       "      <td>1521</td>\n",
       "    </tr>\n",
       "    <tr>\n",
       "      <th>2</th>\n",
       "      <td>Materials and methods</td>\n",
       "      <td>1011</td>\n",
       "    </tr>\n",
       "    <tr>\n",
       "      <th>3</th>\n",
       "      <td>Experimental section</td>\n",
       "      <td>510</td>\n",
       "    </tr>\n",
       "    <tr>\n",
       "      <th>4</th>\n",
       "      <td>Results</td>\n",
       "      <td>312</td>\n",
       "    </tr>\n",
       "  </tbody>\n",
       "</table>\n",
       "</div>"
      ],
      "text/plain": [
       "             section name  frequency\n",
       "0  Results and discussion       2828\n",
       "1            Experimental       1521\n",
       "2   Materials and methods       1011\n",
       "3    Experimental section        510\n",
       "4                 Results        312"
      ]
     },
     "execution_count": 12,
     "metadata": {},
     "output_type": "execute_result"
    }
   ],
   "source": [
    "#shows the first 5 rows\n",
    "df_unique_counts.head()"
   ]
  },
  {
   "cell_type": "code",
   "execution_count": 13,
   "id": "00d62874",
   "metadata": {},
   "outputs": [],
   "source": [
    "#Utilization of section name \n",
    "result_section = ['Results and discussion','Results','Results and discussions','Discussion', 'Result and discussion',\n",
    "           'Results and Discussion','Results & discussion', 'Results and Discussions', 'Result and discussions',\n",
    "          'Result and Discussion', 'Results and analysis', 'Experimental results and discussion', 'Discussions',\n",
    "          'Discussion of the results', 'Results anddiscussion','Results and discussion' ]"
   ]
  },
  {
   "cell_type": "code",
   "execution_count": 18,
   "id": "3795d805",
   "metadata": {},
   "outputs": [],
   "source": [
    "def exp_text():\n",
    "    #Only extracting the experimental parts from entire text article\n",
    "    final_text = []\n",
    "    count = []\n",
    "    for i in actual_range:\n",
    "        df = pd.read_csv(r'C:\\Users\\kumar\\OneDrive - IIT Delhi\\CPCB\\PROF. HARI\\data\\{}.csv'.format(i))\n",
    "        df.drop(index=df.index[0], axis=0, inplace=True)\n",
    "        df.dropna()\n",
    "        df = df.reset_index(drop=True)\n",
    "        for w in np.arange(1,df.shape[0],1):\n",
    "            for name_section in result_section:\n",
    "                if df['sections'][w] == name_section :\n",
    "                    final = df.iloc[:w , :]\n",
    "                    for r in np.arange(1,final.shape[0],1):\n",
    "                        #Access the experiment text\n",
    "                        str1 = str(final['Text'][r])\n",
    "                        #Access the section name\n",
    "                        str2=str(final['sections'][r])\n",
    "                        #Replace section text from exp text\n",
    "                        str3= str1.replace(str2,\"\")\n",
    "                        strf = str3[4:]\n",
    "                        final_text.append(strf)\n",
    "                        count.append(i)\n",
    "        #Store the data frame\n",
    "        df_text = pd.DataFrame()\n",
    "        df_text['exp_text'] = final_text\n",
    "\n",
    "    return df_text, count"
   ]
  },
  {
   "cell_type": "code",
   "execution_count": 19,
   "id": "9bf24e53",
   "metadata": {},
   "outputs": [],
   "source": [
    "#Call the function \n",
    "df_text_final, count = exp_text()"
   ]
  },
  {
   "cell_type": "code",
   "execution_count": 22,
   "id": "8d5da819",
   "metadata": {},
   "outputs": [],
   "source": [
    "#save the data in csv\n",
    "df_text_final.to_csv(r'C:\\Users\\kumar\\OneDrive - IIT Delhi\\CPCB\\PROF. HARI\\data_final\\Raw_text_full_6000\\final_text.csv')"
   ]
  },
  {
   "cell_type": "code",
   "execution_count": 23,
   "id": "d789770d",
   "metadata": {},
   "outputs": [
    {
     "name": "stdout",
     "output_type": "stream",
     "text": [
      "Number of articles extracted: 4004\n"
     ]
    }
   ],
   "source": [
    "#Total number of articles utilized\n",
    "print('Number of articles extracted:',len(np.unique(count)))"
   ]
  },
  {
   "cell_type": "code",
   "execution_count": 21,
   "id": "37fd42b1",
   "metadata": {},
   "outputs": [
    {
     "data": {
      "text/plain": [
       "17855"
      ]
     },
     "execution_count": 21,
     "metadata": {},
     "output_type": "execute_result"
    }
   ],
   "source": [
    "# concatenating df1 and df2 along rows\n",
    "df_final1 = df_text_final.drop_duplicates(subset = ['exp_text'], keep = 'first').reset_index(drop = True)\n",
    "df_final1.shape[0]"
   ]
  },
  {
   "cell_type": "code",
   "execution_count": null,
   "id": "c94b601a",
   "metadata": {},
   "outputs": [],
   "source": []
  }
 ],
 "metadata": {
  "kernelspec": {
   "display_name": "nlp",
   "language": "python",
   "name": "nlp"
  },
  "language_info": {
   "codemirror_mode": {
    "name": "ipython",
    "version": 3
   },
   "file_extension": ".py",
   "mimetype": "text/x-python",
   "name": "python",
   "nbconvert_exporter": "python",
   "pygments_lexer": "ipython3",
   "version": "3.9.7"
  }
 },
 "nbformat": 4,
 "nbformat_minor": 5
}
