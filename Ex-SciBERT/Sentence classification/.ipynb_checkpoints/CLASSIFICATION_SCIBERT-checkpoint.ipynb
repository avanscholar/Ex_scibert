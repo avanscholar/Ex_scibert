{
 "cells": [
  {
   "cell_type": "code",
   "execution_count": null,
   "id": "123ff993",
   "metadata": {},
   "outputs": [],
   "source": [
    "import torch\n",
    "torch.__version__"
   ]
  },
  {
   "cell_type": "code",
   "execution_count": null,
   "id": "ca71229c",
   "metadata": {},
   "outputs": [],
   "source": [
    "torch.cuda.empty_cache()\n",
    "import sys\n",
    "sys.  version\n",
    "print('is there cuda available:',torch.cuda.is_available())\n",
    "torch.cuda.device(0)\n",
    "print('working of gpu',torch.cuda.current_device())\n",
    "print('Name of gpu original or scientific',torch.cuda.get_device_name(0))\n",
    "\n",
    "\n",
    "#want to change the gpu\n",
    "#device = torch.device(\"cuda:0\" if torch.cuda.is_available() else \"cpu\")\n",
    "import os\n",
    "os.environ[\"CUDA_DEVICE_ORDER\"] = \"PCI_BUS_ID\"\n",
    "os.environ[\"CUDA_VISIBLE_DEVICES\"] = \"1\""
   ]
  },
  {
   "cell_type": "code",
   "execution_count": null,
   "id": "7159d77b",
   "metadata": {},
   "outputs": [],
   "source": [
    "#Import basic libraries\n",
    "import pandas as pd\n",
    "import numpy as np"
   ]
  },
  {
   "cell_type": "code",
   "execution_count": null,
   "id": "9ecf24c3",
   "metadata": {},
   "outputs": [],
   "source": [
    "# install pytorch-pretrained-bert from PyPI\n",
    "#!pip install pytorch-pretrained-bert"
   ]
  },
  {
   "cell_type": "code",
   "execution_count": null,
   "id": "2e106169",
   "metadata": {},
   "outputs": [],
   "source": [
    "#All important libraries to run \n",
    "import os\n",
    "import math\n",
    "import random\n",
    "import csv\n",
    "import sys\n",
    "\n",
    "from sklearn import metrics\n",
    "from sklearn.metrics import f1_score, precision_score, recall_score, accuracy_score\n",
    "from sklearn.metrics import classification_report\n",
    "import statistics as stats\n",
    "\n",
    "#Cloned the bert_sklearn API here\n",
    "!git clone -b master https://github.com/charles9n/bert-sklearn\n",
    "!cd bert-sklearn; pip install .\n",
    "\n",
    "#Import the pretrained model \n",
    "sys.path.append(\"../\") \n",
    "from bert_sklearn import BertTokenClassifier, BertClassifier, BertRegressor\n",
    "#It is use to load the trained model\n",
    "from bert_sklearn import load_model"
   ]
  },
  {
   "cell_type": "code",
   "execution_count": null,
   "id": "afd153a5",
   "metadata": {},
   "outputs": [],
   "source": [
    "#A annotated data for classification is loaded here\n",
    "df = pd.read_csv(r'C:\\Users\\kumar\\OneDrive - IIT Delhi\\CPCB\\PROF. HARI\\data_final\\CLASSIFICATION\\df_final_classification_with_netrual.csv')\n",
    "#Delete the unwanted column\n",
    "df = df.drop(['Unnamed: 0'], axis=1)\n",
    "#Shows first 5 rows of data\n",
    "df.head()"
   ]
  },
  {
   "cell_type": "code",
   "execution_count": null,
   "id": "5a6eaf10",
   "metadata": {},
   "outputs": [],
   "source": [
    "#Remove the punctutions from each sentence \n",
    "sentence = []\n",
    "import re\n",
    "for i in np.arange(0,df.shape[0], 1):\n",
    "    pattern = r'\\[[^()]*\\]'\n",
    "    #s = \"\"\"Issachar is a rawboned[a] (donkey) lying down among the sheep pens.\"\"\"\n",
    "    t = re.sub(pattern, '', df.sentence[i])\n",
    "    sentence.append(t)\n",
    "df['sentence'] = sentence\n",
    "df.head()"
   ]
  },
  {
   "cell_type": "code",
   "execution_count": null,
   "id": "8be195a2",
   "metadata": {},
   "outputs": [],
   "source": [
    "#The data has input and output\n",
    "X= df.sentence\n",
    "Y = df.label"
   ]
  },
  {
   "cell_type": "code",
   "execution_count": null,
   "id": "37bb361f",
   "metadata": {},
   "outputs": [],
   "source": [
    "#The data is splited into train and test set\n",
    "from sklearn.model_selection import train_test_split\n",
    "X_train,X_test,y_train,y_test=train_test_split(X,Y,test_size=0.2, random_state= 3)"
   ]
  },
  {
   "cell_type": "code",
   "execution_count": null,
   "id": "7547ca05",
   "metadata": {},
   "outputs": [],
   "source": [
    "#Total data points describe\n",
    "print('shape of actual data', df.shape[0])\n",
    "print('shape of train data', X_train.shape[0])\n",
    "print('shape of test data', X_test.shape[0])"
   ]
  },
  {
   "cell_type": "code",
   "execution_count": null,
   "id": "b88e84a5",
   "metadata": {},
   "outputs": [],
   "source": [
    "#Load the pretrained model of BERTclassifier\n",
    "%%time\n",
    "model = BertClassifier(bert_model='scibert-basevocab-cased',\n",
    "                            max_seq_length=256,\n",
    "                            epochs=50,\n",
    "                            gradient_accumulation_steps=2,\n",
    "                            learning_rate=3e-6,\n",
    "                            train_batch_size=32,\n",
    "                            eval_batch_size=32,\n",
    "                            validation_fraction=0.10,\n",
    "                       logfile='bert_sklearn.log',\n",
    "                      warmup_proportion = 0.2,\n",
    "                      random_state = 42)\n",
    "\n",
    "print(model)"
   ]
  },
  {
   "cell_type": "code",
   "execution_count": null,
   "id": "ec5cc43f",
   "metadata": {},
   "outputs": [],
   "source": [
    "# finetune model on train data\n",
    "model.fit(X_train, y_train)"
   ]
  },
  {
   "cell_type": "code",
   "execution_count": null,
   "id": "8f4b4b5f",
   "metadata": {},
   "outputs": [],
   "source": [
    "#Save model to disk\n",
    "savefile = 'classifi_model50_256_with_netrual.bin'\n",
    "model.save(savefile)"
   ]
  },
  {
   "cell_type": "code",
   "execution_count": null,
   "id": "46467961",
   "metadata": {},
   "outputs": [],
   "source": [
    "#load the save the model\n",
    "savefile = 'classifi_model10_178_with_netrual.bin'\n",
    "#load model from disk\n",
    "model = load_model(savefile)"
   ]
  },
  {
   "cell_type": "code",
   "execution_count": null,
   "id": "270ab112",
   "metadata": {},
   "outputs": [],
   "source": [
    "# get predictions on test data\n",
    "y_pred_train = model.predict(X_train)\n",
    "\n",
    "# print report on classifier stats\n",
    "print(classification_report(y_train, y_pred_train))\n",
    "\n",
    "#Get accuracy on train data\n",
    "print('Accuracy of test:', accuracy_score(y_train, y_pred_train))"
   ]
  },
  {
   "cell_type": "code",
   "execution_count": null,
   "id": "1e69db2e",
   "metadata": {},
   "outputs": [],
   "source": [
    "#Print the confusion\n",
    "metrics.confusion_matrix(y_train, y_pred_train)"
   ]
  },
  {
   "cell_type": "code",
   "execution_count": null,
   "id": "faf7ec18",
   "metadata": {},
   "outputs": [],
   "source": [
    "#Get predictions on test data\n",
    "y_pred_test = model.predict(X_test)\n",
    "\n",
    "#Print report on classifier stats\n",
    "print(classification_report(y_test, y_pred_test))\n",
    "\n",
    "#Accuracy on train data\n",
    "print('Accuracy of test:', accuracy_score(y_test, y_pred_test))"
   ]
  },
  {
   "cell_type": "code",
   "execution_count": null,
   "id": "7b0f0125",
   "metadata": {},
   "outputs": [],
   "source": [
    "#Print the confusion matrix\n",
    "metrics.confusion_matrix(y_test, y_pred_test)"
   ]
  }
 ],
 "metadata": {
  "kernelspec": {
   "display_name": "Python 3",
   "language": "python",
   "name": "python3"
  },
  "language_info": {
   "codemirror_mode": {
    "name": "ipython",
    "version": 3
   },
   "file_extension": ".py",
   "mimetype": "text/x-python",
   "name": "python",
   "nbconvert_exporter": "python",
   "pygments_lexer": "ipython3",
   "version": "3.8.8"
  }
 },
 "nbformat": 4,
 "nbformat_minor": 5
}
