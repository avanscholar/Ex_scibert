{
 "cells": [
  {
   "cell_type": "code",
   "execution_count": 1,
   "id": "123ff993",
   "metadata": {},
   "outputs": [
    {
     "ename": "ModuleNotFoundError",
     "evalue": "No module named 'torch'",
     "output_type": "error",
     "traceback": [
      "\u001b[1;31m---------------------------------------------------------------------------\u001b[0m",
      "\u001b[1;31mModuleNotFoundError\u001b[0m                       Traceback (most recent call last)",
      "\u001b[1;32m~\\AppData\\Local\\Temp/ipykernel_23052/124605286.py\u001b[0m in \u001b[0;36m<module>\u001b[1;34m\u001b[0m\n\u001b[1;32m----> 1\u001b[1;33m \u001b[1;32mimport\u001b[0m \u001b[0mtorch\u001b[0m\u001b[1;33m\u001b[0m\u001b[1;33m\u001b[0m\u001b[0m\n\u001b[0m\u001b[0;32m      2\u001b[0m \u001b[0mtorch\u001b[0m\u001b[1;33m.\u001b[0m\u001b[0m__version__\u001b[0m\u001b[1;33m\u001b[0m\u001b[1;33m\u001b[0m\u001b[0m\n",
      "\u001b[1;31mModuleNotFoundError\u001b[0m: No module named 'torch'"
     ]
    }
   ],
   "source": [
    "import torch\n",
    "torch.__version__"
   ]
  },
  {
   "cell_type": "code",
   "execution_count": 3,
   "id": "ca71229c",
   "metadata": {},
   "outputs": [],
   "source": [
    "torch.cuda.empty_cache()\n",
    "import sys\n",
    "sys.  version\n",
    "print('is there cuda available:',torch.cuda.is_available())\n",
    "torch.cuda.device(0)\n",
    "print('working of gpu',torch.cuda.current_device())\n",
    "print('Name of gpu original or scientific',torch.cuda.get_device_name(0))\n",
    "\n",
    "\n",
    "#want to change the gpu\n",
    "#device = torch.device(\"cuda:0\" if torch.cuda.is_available() else \"cpu\")\n",
    "import os\n",
    "os.environ[\"CUDA_DEVICE_ORDER\"] = \"PCI_BUS_ID\"\n",
    "os.environ[\"CUDA_VISIBLE_DEVICES\"] = \"1\""
   ]
  },
  {
   "cell_type": "code",
   "execution_count": 8,
   "id": "7159d77b",
   "metadata": {},
   "outputs": [],
   "source": [
    "#Import basic libraries\n",
    "import pandas as pd\n",
    "import numpy as np"
   ]
  },
  {
   "cell_type": "code",
   "execution_count": 9,
   "id": "9ecf24c3",
   "metadata": {},
   "outputs": [],
   "source": [
    "# install pytorch-pretrained-bert from PyPI\n",
    "#!pip install pytorch-pretrained-bert"
   ]
  },
  {
   "cell_type": "code",
   "execution_count": 10,
   "id": "2e106169",
   "metadata": {},
   "outputs": [
    {
     "name": "stdout",
     "output_type": "stream",
     "text": [
      "Cloning into 'bert-sklearn'...\n",
      "remote: Enumerating objects: 259, done.\u001b[K\n",
      "remote: Total 259 (delta 0), reused 0 (delta 0), pack-reused 259\u001b[K\n",
      "Receiving objects: 100% (259/259), 516.15 KiB | 3.85 MiB/s, done.\n",
      "Resolving deltas: 100% (131/131), done.\n",
      "Processing /home/user3/Documents/avan_phd/Objective_nlp/new_jupyter/classi2/bert-sklearn\n",
      "\u001b[33m  DEPRECATION: A future pip version will change local packages to be built in-place without first copying to a temporary directory. We recommend you use --use-feature=in-tree-build to test your packages with this new behavior before it becomes the default.\n",
      "   pip 21.3 will remove support for this functionality. You can find discussion regarding this at https://github.com/pypa/pip/issues/7555.\u001b[0m\n",
      "Requirement already satisfied: torch>=0.4.1 in /opt/anaconda3/envs/bert/lib/python3.7/site-packages (from bert-sklearn==0.3.1) (1.4.0)\n",
      "Requirement already satisfied: scikit-learn in /opt/anaconda3/envs/bert/lib/python3.7/site-packages (from bert-sklearn==0.3.1) (1.0.2)\n",
      "Requirement already satisfied: numpy in /opt/anaconda3/envs/bert/lib/python3.7/site-packages (from bert-sklearn==0.3.1) (1.21.5)\n",
      "Requirement already satisfied: pandas in /opt/anaconda3/envs/bert/lib/python3.7/site-packages (from bert-sklearn==0.3.1) (1.3.5)\n",
      "Requirement already satisfied: boto3 in /opt/anaconda3/envs/bert/lib/python3.7/site-packages (from bert-sklearn==0.3.1) (1.20.40)\n",
      "Requirement already satisfied: requests in /opt/anaconda3/envs/bert/lib/python3.7/site-packages (from bert-sklearn==0.3.1) (2.27.1)\n",
      "Requirement already satisfied: tqdm in /opt/anaconda3/envs/bert/lib/python3.7/site-packages (from bert-sklearn==0.3.1) (4.62.3)\n",
      "Requirement already satisfied: botocore<1.24.0,>=1.23.40 in /opt/anaconda3/envs/bert/lib/python3.7/site-packages (from boto3->bert-sklearn==0.3.1) (1.23.40)\n",
      "Requirement already satisfied: s3transfer<0.6.0,>=0.5.0 in /opt/anaconda3/envs/bert/lib/python3.7/site-packages (from boto3->bert-sklearn==0.3.1) (0.5.0)\n",
      "Requirement already satisfied: jmespath<1.0.0,>=0.7.1 in /opt/anaconda3/envs/bert/lib/python3.7/site-packages (from boto3->bert-sklearn==0.3.1) (0.10.0)\n",
      "Requirement already satisfied: python-dateutil<3.0.0,>=2.1 in /opt/anaconda3/envs/bert/lib/python3.7/site-packages (from botocore<1.24.0,>=1.23.40->boto3->bert-sklearn==0.3.1) (2.8.2)\n",
      "Requirement already satisfied: urllib3<1.27,>=1.25.4 in /opt/anaconda3/envs/bert/lib/python3.7/site-packages (from botocore<1.24.0,>=1.23.40->boto3->bert-sklearn==0.3.1) (1.26.8)\n",
      "Requirement already satisfied: six>=1.5 in /opt/anaconda3/envs/bert/lib/python3.7/site-packages (from python-dateutil<3.0.0,>=2.1->botocore<1.24.0,>=1.23.40->boto3->bert-sklearn==0.3.1) (1.16.0)\n",
      "Requirement already satisfied: pytz>=2017.3 in /opt/anaconda3/envs/bert/lib/python3.7/site-packages (from pandas->bert-sklearn==0.3.1) (2021.3)\n",
      "Requirement already satisfied: charset-normalizer~=2.0.0 in /opt/anaconda3/envs/bert/lib/python3.7/site-packages (from requests->bert-sklearn==0.3.1) (2.0.10)\n",
      "Requirement already satisfied: certifi>=2017.4.17 in /opt/anaconda3/envs/bert/lib/python3.7/site-packages (from requests->bert-sklearn==0.3.1) (2021.10.8)\n",
      "Requirement already satisfied: idna<4,>=2.5 in /opt/anaconda3/envs/bert/lib/python3.7/site-packages (from requests->bert-sklearn==0.3.1) (3.3)\n",
      "Requirement already satisfied: joblib>=0.11 in /opt/anaconda3/envs/bert/lib/python3.7/site-packages (from scikit-learn->bert-sklearn==0.3.1) (1.1.0)\n",
      "Requirement already satisfied: scipy>=1.1.0 in /opt/anaconda3/envs/bert/lib/python3.7/site-packages (from scikit-learn->bert-sklearn==0.3.1) (1.7.3)\n",
      "Requirement already satisfied: threadpoolctl>=2.0.0 in /opt/anaconda3/envs/bert/lib/python3.7/site-packages (from scikit-learn->bert-sklearn==0.3.1) (3.0.0)\n",
      "Building wheels for collected packages: bert-sklearn\n",
      "  Building wheel for bert-sklearn (setup.py) ... \u001b[?25ldone\n",
      "\u001b[?25h  Created wheel for bert-sklearn: filename=bert_sklearn-0.3.1-py3-none-any.whl size=54247 sha256=de15c91efa7a4263391afb1399d13adb95d0c52ce4fb8141efd0bf3646ef7781\n",
      "  Stored in directory: /home/user3/.cache/pip/wheels/fa/cc/8d/adb4a637760649e5014cb36408979e08f912da2b91289a5c3d\n",
      "Successfully built bert-sklearn\n",
      "Installing collected packages: bert-sklearn\n",
      "  Attempting uninstall: bert-sklearn\n",
      "    Found existing installation: bert-sklearn 0.3.1\n",
      "    Uninstalling bert-sklearn-0.3.1:\n",
      "      Successfully uninstalled bert-sklearn-0.3.1\n",
      "Successfully installed bert-sklearn-0.3.1\n"
     ]
    }
   ],
   "source": [
    "#All important libraries to run \n",
    "import os\n",
    "import math\n",
    "import random\n",
    "import csv\n",
    "import sys\n",
    "\n",
    "from sklearn import metrics\n",
    "from sklearn.metrics import f1_score, precision_score, recall_score, accuracy_score\n",
    "from sklearn.metrics import classification_report\n",
    "import statistics as stats\n",
    "\n",
    "#Cloned the bert_sklearn API here\n",
    "!git clone -b master https://github.com/charles9n/bert-sklearn\n",
    "!cd bert-sklearn; pip install .\n",
    "\n",
    "#Import the pretrained model \n",
    "sys.path.append(\"../\") \n",
    "from bert_sklearn import BertTokenClassifier, BertClassifier, BertRegressor\n",
    "#It is use to load the trained model\n",
    "from bert_sklearn import load_model"
   ]
  },
  {
   "cell_type": "code",
   "execution_count": 2,
   "id": "afd153a5",
   "metadata": {},
   "outputs": [
    {
     "ename": "NameError",
     "evalue": "name 'pd' is not defined",
     "output_type": "error",
     "traceback": [
      "\u001b[1;31m---------------------------------------------------------------------------\u001b[0m",
      "\u001b[1;31mNameError\u001b[0m                                 Traceback (most recent call last)",
      "\u001b[1;32m~\\AppData\\Local\\Temp/ipykernel_23052/2807049152.py\u001b[0m in \u001b[0;36m<module>\u001b[1;34m\u001b[0m\n\u001b[0;32m      1\u001b[0m \u001b[1;31m#A annotated data for classification is loaded here\u001b[0m\u001b[1;33m\u001b[0m\u001b[1;33m\u001b[0m\u001b[0m\n\u001b[1;32m----> 2\u001b[1;33m \u001b[0mdf\u001b[0m \u001b[1;33m=\u001b[0m \u001b[0mpd\u001b[0m\u001b[1;33m.\u001b[0m\u001b[0mread_csv\u001b[0m\u001b[1;33m(\u001b[0m\u001b[1;34mr'C:\\Users\\kumar\\OneDrive - IIT Delhi\\CPCB\\PROF. HARI\\data_final\\CLASSIFICATION\\df_final_classification_with_netrual.csv'\u001b[0m\u001b[1;33m)\u001b[0m\u001b[1;33m\u001b[0m\u001b[1;33m\u001b[0m\u001b[0m\n\u001b[0m\u001b[0;32m      3\u001b[0m \u001b[1;31m#Delete the unwanted column\u001b[0m\u001b[1;33m\u001b[0m\u001b[1;33m\u001b[0m\u001b[0m\n\u001b[0;32m      4\u001b[0m \u001b[0mdf\u001b[0m \u001b[1;33m=\u001b[0m \u001b[0mdf\u001b[0m\u001b[1;33m.\u001b[0m\u001b[0mdrop\u001b[0m\u001b[1;33m(\u001b[0m\u001b[1;33m[\u001b[0m\u001b[1;34m'Unnamed: 0'\u001b[0m\u001b[1;33m]\u001b[0m\u001b[1;33m,\u001b[0m \u001b[0maxis\u001b[0m\u001b[1;33m=\u001b[0m\u001b[1;36m1\u001b[0m\u001b[1;33m)\u001b[0m\u001b[1;33m\u001b[0m\u001b[1;33m\u001b[0m\u001b[0m\n\u001b[0;32m      5\u001b[0m \u001b[1;31m#Shows first 5 rows of data\u001b[0m\u001b[1;33m\u001b[0m\u001b[1;33m\u001b[0m\u001b[0m\n",
      "\u001b[1;31mNameError\u001b[0m: name 'pd' is not defined"
     ]
    }
   ],
   "source": [
    "#A annotated data for classification is loaded here\n",
    "df = pd.read_csv(r'C:\\Users\\kumar\\OneDrive - IIT Delhi\\CPCB\\PROF. HARI\\data_final\\CLASSIFICATION\\df_final_classification_with_netrual.csv')\n",
    "#Delete the unwanted column\n",
    "df = df.drop(['Unnamed: 0'], axis=1)\n",
    "#Shows first 5 rows of data\n",
    "df.head()"
   ]
  },
  {
   "cell_type": "code",
   "execution_count": 14,
   "id": "5a6eaf10",
   "metadata": {},
   "outputs": [],
   "source": [
    "#Remove the punctutions from each sentence \n",
    "sentence = []\n",
    "import re\n",
    "for i in np.arange(0,df.shape[0], 1):\n",
    "    pattern = r'\\[[^()]*\\]'\n",
    "    #s = \"\"\"Issachar is a rawboned[a] (donkey) lying down among the sheep pens.\"\"\"\n",
    "    t = re.sub(pattern, '', df.sentence[i])\n",
    "    sentence.append(t)\n",
    "df['sentence'] = sentence\n",
    "df.head()"
   ]
  },
  {
   "cell_type": "code",
   "execution_count": 17,
   "id": "8be195a2",
   "metadata": {},
   "outputs": [],
   "source": [
    "#The data has input and output\n",
    "X= df.sentence\n",
    "Y = df.label"
   ]
  },
  {
   "cell_type": "code",
   "execution_count": 18,
   "id": "37bb361f",
   "metadata": {},
   "outputs": [],
   "source": [
    "#The data is splited into train and test set\n",
    "from sklearn.model_selection import train_test_split\n",
    "X_train,X_test,y_train,y_test=train_test_split(X,Y,test_size=0.2, random_state= 3)"
   ]
  },
  {
   "cell_type": "code",
   "execution_count": 19,
   "id": "7547ca05",
   "metadata": {},
   "outputs": [
    {
     "name": "stdout",
     "output_type": "stream",
     "text": [
      "shape of actual data 19083\n",
      "shape of train data 15266\n",
      "shape of test data 3817\n"
     ]
    }
   ],
   "source": [
    "#Total data points describe\n",
    "print('shape of actual data', df.shape[0])\n",
    "print('shape of train data', X_train.shape[0])\n",
    "print('shape of test data', X_test.shape[0])"
   ]
  },
  {
   "cell_type": "code",
   "execution_count": 21,
   "id": "b88e84a5",
   "metadata": {},
   "outputs": [
    {
     "name": "stdout",
     "output_type": "stream",
     "text": [
      "Building sklearn text classifier...\n",
      "BertClassifier(bert_model='scibert-basevocab-cased', epochs=50,\n",
      "               eval_batch_size=32, gradient_accumulation_steps=2,\n",
      "               learning_rate=3e-06, max_seq_length=256, warmup_proportion=0.2)\n",
      "CPU times: user 5.54 ms, sys: 245 µs, total: 5.78 ms\n",
      "Wall time: 4.53 ms\n"
     ]
    }
   ],
   "source": [
    "#Load the pretrained model of BERTclassifier\n",
    "%%time\n",
    "model = BertClassifier(bert_model='scibert-basevocab-cased',\n",
    "                            max_seq_length=256,\n",
    "                            epochs=50,\n",
    "                            gradient_accumulation_steps=2,\n",
    "                            learning_rate=3e-6,\n",
    "                            train_batch_size=32,\n",
    "                            eval_batch_size=32,\n",
    "                            validation_fraction=0.10,\n",
    "                       logfile='bert_sklearn.log',\n",
    "                      warmup_proportion = 0.2,\n",
    "                      random_state = 42)\n",
    "\n",
    "print(model)"
   ]
  },
  {
   "cell_type": "code",
   "execution_count": 22,
   "id": "ec5cc43f",
   "metadata": {},
   "outputs": [
    {
     "name": "stdout",
     "output_type": "stream",
     "text": [
      "Loading scibert-basevocab-cased model...\n",
      "Defaulting to linear classifier/regressor\n",
      "Loading Pytorch checkpoint\n",
      "train data size: 13740, validation data size: 1526\n"
     ]
    },
    {
     "name": "stderr",
     "output_type": "stream",
     "text": [
      "Training  : 100%|█████████████████████████████████████████| 859/859 [05:32<00:00,  2.58it/s, loss=1.21]\n",
      "Validating: 100%|██████████████████████████████████████████████████████| 48/48 [00:10<00:00,  4.62it/s]"
     ]
    },
    {
     "name": "stdout",
     "output_type": "stream",
     "text": [
      "Epoch 1, Train loss: 1.2123, Val loss: 0.9620, Val accy: 69.79%\n"
     ]
    },
    {
     "name": "stderr",
     "output_type": "stream",
     "text": [
      "\n",
      "Training  : 100%|████████████████████████████████████████| 859/859 [05:33<00:00,  2.58it/s, loss=0.874]\n",
      "Validating: 100%|██████████████████████████████████████████████████████| 48/48 [00:10<00:00,  4.61it/s]"
     ]
    },
    {
     "name": "stdout",
     "output_type": "stream",
     "text": [
      "Epoch 2, Train loss: 0.8741, Val loss: 0.7528, Val accy: 71.89%\n"
     ]
    },
    {
     "name": "stderr",
     "output_type": "stream",
     "text": [
      "\n",
      "Training  : 100%|████████████████████████████████████████| 859/859 [05:33<00:00,  2.58it/s, loss=0.686]\n",
      "Validating: 100%|██████████████████████████████████████████████████████| 48/48 [00:10<00:00,  4.60it/s]"
     ]
    },
    {
     "name": "stdout",
     "output_type": "stream",
     "text": [
      "Epoch 3, Train loss: 0.6859, Val loss: 0.5949, Val accy: 76.28%\n"
     ]
    },
    {
     "name": "stderr",
     "output_type": "stream",
     "text": [
      "\n",
      "Training  : 100%|████████████████████████████████████████| 859/859 [05:33<00:00,  2.58it/s, loss=0.544]\n",
      "Validating: 100%|██████████████████████████████████████████████████████| 48/48 [00:10<00:00,  4.61it/s]"
     ]
    },
    {
     "name": "stdout",
     "output_type": "stream",
     "text": [
      "Epoch 4, Train loss: 0.5444, Val loss: 0.4812, Val accy: 83.36%\n"
     ]
    },
    {
     "name": "stderr",
     "output_type": "stream",
     "text": [
      "\n",
      "Training  : 100%|████████████████████████████████████████| 859/859 [05:33<00:00,  2.57it/s, loss=0.458]\n",
      "Validating: 100%|██████████████████████████████████████████████████████| 48/48 [00:10<00:00,  4.59it/s]"
     ]
    },
    {
     "name": "stdout",
     "output_type": "stream",
     "text": [
      "Epoch 5, Train loss: 0.4576, Val loss: 0.4151, Val accy: 85.91%\n"
     ]
    },
    {
     "name": "stderr",
     "output_type": "stream",
     "text": [
      "\n",
      "Training  : 100%|██████████████████████████████████████████| 859/859 [05:33<00:00,  2.57it/s, loss=0.4]\n",
      "Validating: 100%|██████████████████████████████████████████████████████| 48/48 [00:10<00:00,  4.62it/s]"
     ]
    },
    {
     "name": "stdout",
     "output_type": "stream",
     "text": [
      "Epoch 6, Train loss: 0.3999, Val loss: 0.3799, Val accy: 86.83%\n"
     ]
    },
    {
     "name": "stderr",
     "output_type": "stream",
     "text": [
      "\n",
      "Training  : 100%|████████████████████████████████████████| 859/859 [05:33<00:00,  2.57it/s, loss=0.362]\n",
      "Validating: 100%|██████████████████████████████████████████████████████| 48/48 [00:10<00:00,  4.59it/s]"
     ]
    },
    {
     "name": "stdout",
     "output_type": "stream",
     "text": [
      "Epoch 7, Train loss: 0.3615, Val loss: 0.3484, Val accy: 87.61%\n"
     ]
    },
    {
     "name": "stderr",
     "output_type": "stream",
     "text": [
      "\n",
      "Training  : 100%|████████████████████████████████████████| 859/859 [05:33<00:00,  2.57it/s, loss=0.334]\n",
      "Validating: 100%|██████████████████████████████████████████████████████| 48/48 [00:10<00:00,  4.60it/s]"
     ]
    },
    {
     "name": "stdout",
     "output_type": "stream",
     "text": [
      "Epoch 8, Train loss: 0.3338, Val loss: 0.3363, Val accy: 87.48%\n"
     ]
    },
    {
     "name": "stderr",
     "output_type": "stream",
     "text": [
      "\n",
      "Training  : 100%|████████████████████████████████████████| 859/859 [05:33<00:00,  2.58it/s, loss=0.313]\n",
      "Validating: 100%|██████████████████████████████████████████████████████| 48/48 [00:10<00:00,  4.61it/s]"
     ]
    },
    {
     "name": "stdout",
     "output_type": "stream",
     "text": [
      "Epoch 9, Train loss: 0.3130, Val loss: 0.3255, Val accy: 87.75%\n"
     ]
    },
    {
     "name": "stderr",
     "output_type": "stream",
     "text": [
      "\n",
      "Training  : 100%|████████████████████████████████████████| 859/859 [05:33<00:00,  2.57it/s, loss=0.293]\n",
      "Validating: 100%|██████████████████████████████████████████████████████| 48/48 [00:10<00:00,  4.61it/s]"
     ]
    },
    {
     "name": "stdout",
     "output_type": "stream",
     "text": [
      "Epoch 10, Train loss: 0.2931, Val loss: 0.3093, Val accy: 89.38%\n"
     ]
    },
    {
     "name": "stderr",
     "output_type": "stream",
     "text": [
      "\n",
      "Training  : 100%|████████████████████████████████████████| 859/859 [05:34<00:00,  2.57it/s, loss=0.271]\n",
      "Validating: 100%|██████████████████████████████████████████████████████| 48/48 [00:10<00:00,  4.59it/s]"
     ]
    },
    {
     "name": "stdout",
     "output_type": "stream",
     "text": [
      "Epoch 11, Train loss: 0.2712, Val loss: 0.3067, Val accy: 89.45%\n"
     ]
    },
    {
     "name": "stderr",
     "output_type": "stream",
     "text": [
      "\n",
      "Training  : 100%|████████████████████████████████████████| 859/859 [05:33<00:00,  2.57it/s, loss=0.259]\n",
      "Validating: 100%|██████████████████████████████████████████████████████| 48/48 [00:10<00:00,  4.61it/s]"
     ]
    },
    {
     "name": "stdout",
     "output_type": "stream",
     "text": [
      "Epoch 12, Train loss: 0.2593, Val loss: 0.3141, Val accy: 88.60%\n"
     ]
    },
    {
     "name": "stderr",
     "output_type": "stream",
     "text": [
      "\n",
      "Training  : 100%|████████████████████████████████████████| 859/859 [05:33<00:00,  2.57it/s, loss=0.249]\n",
      "Validating: 100%|██████████████████████████████████████████████████████| 48/48 [00:10<00:00,  4.60it/s]"
     ]
    },
    {
     "name": "stdout",
     "output_type": "stream",
     "text": [
      "Epoch 13, Train loss: 0.2485, Val loss: 0.3083, Val accy: 89.06%\n"
     ]
    },
    {
     "name": "stderr",
     "output_type": "stream",
     "text": [
      "\n",
      "Training  : 100%|████████████████████████████████████████| 859/859 [05:33<00:00,  2.57it/s, loss=0.239]\n",
      "Validating: 100%|██████████████████████████████████████████████████████| 48/48 [00:10<00:00,  4.60it/s]"
     ]
    },
    {
     "name": "stdout",
     "output_type": "stream",
     "text": [
      "Epoch 14, Train loss: 0.2392, Val loss: 0.3020, Val accy: 89.06%\n"
     ]
    },
    {
     "name": "stderr",
     "output_type": "stream",
     "text": [
      "\n",
      "Training  : 100%|████████████████████████████████████████| 859/859 [05:33<00:00,  2.57it/s, loss=0.232]\n",
      "Validating: 100%|██████████████████████████████████████████████████████| 48/48 [00:10<00:00,  4.61it/s]"
     ]
    },
    {
     "name": "stdout",
     "output_type": "stream",
     "text": [
      "Epoch 15, Train loss: 0.2319, Val loss: 0.3089, Val accy: 88.60%\n"
     ]
    },
    {
     "name": "stderr",
     "output_type": "stream",
     "text": [
      "\n",
      "Training  : 100%|████████████████████████████████████████| 859/859 [05:33<00:00,  2.57it/s, loss=0.224]\n",
      "Validating: 100%|██████████████████████████████████████████████████████| 48/48 [00:10<00:00,  4.60it/s]"
     ]
    },
    {
     "name": "stdout",
     "output_type": "stream",
     "text": [
      "Epoch 16, Train loss: 0.2237, Val loss: 0.3312, Val accy: 88.27%\n"
     ]
    },
    {
     "name": "stderr",
     "output_type": "stream",
     "text": [
      "\n",
      "Training  : 100%|████████████████████████████████████████| 859/859 [05:33<00:00,  2.57it/s, loss=0.221]\n",
      "Validating: 100%|██████████████████████████████████████████████████████| 48/48 [00:10<00:00,  4.58it/s]"
     ]
    },
    {
     "name": "stdout",
     "output_type": "stream",
     "text": [
      "Epoch 17, Train loss: 0.2212, Val loss: 0.3283, Val accy: 88.07%\n"
     ]
    },
    {
     "name": "stderr",
     "output_type": "stream",
     "text": [
      "\n",
      "Training  : 100%|████████████████████████████████████████| 859/859 [05:34<00:00,  2.57it/s, loss=0.207]\n",
      "Validating: 100%|██████████████████████████████████████████████████████| 48/48 [00:10<00:00,  4.60it/s]"
     ]
    },
    {
     "name": "stdout",
     "output_type": "stream",
     "text": [
      "Epoch 18, Train loss: 0.2070, Val loss: 0.3363, Val accy: 88.14%\n"
     ]
    },
    {
     "name": "stderr",
     "output_type": "stream",
     "text": [
      "\n",
      "Training  : 100%|████████████████████████████████████████| 859/859 [05:33<00:00,  2.57it/s, loss=0.201]\n",
      "Validating: 100%|██████████████████████████████████████████████████████| 48/48 [00:10<00:00,  4.60it/s]"
     ]
    },
    {
     "name": "stdout",
     "output_type": "stream",
     "text": [
      "Epoch 19, Train loss: 0.2007, Val loss: 0.3529, Val accy: 87.09%\n"
     ]
    },
    {
     "name": "stderr",
     "output_type": "stream",
     "text": [
      "\n",
      "Training  : 100%|████████████████████████████████████████| 859/859 [05:34<00:00,  2.57it/s, loss=0.193]\n",
      "Validating: 100%|██████████████████████████████████████████████████████| 48/48 [00:10<00:00,  4.58it/s]"
     ]
    },
    {
     "name": "stdout",
     "output_type": "stream",
     "text": [
      "Epoch 20, Train loss: 0.1933, Val loss: 0.3680, Val accy: 86.89%\n"
     ]
    },
    {
     "name": "stderr",
     "output_type": "stream",
     "text": [
      "\n",
      "Training  : 100%|████████████████████████████████████████| 859/859 [05:33<00:00,  2.57it/s, loss=0.188]\n",
      "Validating: 100%|██████████████████████████████████████████████████████| 48/48 [00:10<00:00,  4.59it/s]"
     ]
    },
    {
     "name": "stdout",
     "output_type": "stream",
     "text": [
      "Epoch 21, Train loss: 0.1885, Val loss: 0.3489, Val accy: 86.89%\n"
     ]
    },
    {
     "name": "stderr",
     "output_type": "stream",
     "text": [
      "\n",
      "Training  : 100%|████████████████████████████████████████| 859/859 [05:33<00:00,  2.57it/s, loss=0.185]\n",
      "Validating: 100%|██████████████████████████████████████████████████████| 48/48 [00:10<00:00,  4.60it/s]"
     ]
    },
    {
     "name": "stdout",
     "output_type": "stream",
     "text": [
      "Epoch 22, Train loss: 0.1853, Val loss: 0.3662, Val accy: 86.11%\n"
     ]
    },
    {
     "name": "stderr",
     "output_type": "stream",
     "text": [
      "\n",
      "Training  : 100%|████████████████████████████████████████| 859/859 [05:32<00:00,  2.58it/s, loss=0.176]\n",
      "Validating: 100%|██████████████████████████████████████████████████████| 48/48 [00:10<00:00,  4.61it/s]"
     ]
    },
    {
     "name": "stdout",
     "output_type": "stream",
     "text": [
      "Epoch 23, Train loss: 0.1756, Val loss: 0.3875, Val accy: 86.57%\n"
     ]
    },
    {
     "name": "stderr",
     "output_type": "stream",
     "text": [
      "\n",
      "Training  : 100%|████████████████████████████████████████| 859/859 [05:32<00:00,  2.58it/s, loss=0.171]\n",
      "Validating: 100%|██████████████████████████████████████████████████████| 48/48 [00:10<00:00,  4.61it/s]"
     ]
    },
    {
     "name": "stdout",
     "output_type": "stream",
     "text": [
      "Epoch 24, Train loss: 0.1705, Val loss: 0.4091, Val accy: 85.65%\n"
     ]
    },
    {
     "name": "stderr",
     "output_type": "stream",
     "text": [
      "\n",
      "Training  : 100%|█████████████████████████████████████████| 859/859 [05:32<00:00,  2.58it/s, loss=0.17]\n",
      "Validating: 100%|██████████████████████████████████████████████████████| 48/48 [00:10<00:00,  4.62it/s]"
     ]
    },
    {
     "name": "stdout",
     "output_type": "stream",
     "text": [
      "Epoch 25, Train loss: 0.1698, Val loss: 0.4237, Val accy: 85.32%\n"
     ]
    },
    {
     "name": "stderr",
     "output_type": "stream",
     "text": [
      "\n",
      "Training  : 100%|████████████████████████████████████████| 859/859 [05:32<00:00,  2.58it/s, loss=0.168]\n",
      "Validating: 100%|██████████████████████████████████████████████████████| 48/48 [00:10<00:00,  4.61it/s]"
     ]
    },
    {
     "name": "stdout",
     "output_type": "stream",
     "text": [
      "Epoch 26, Train loss: 0.1678, Val loss: 0.3971, Val accy: 85.58%\n"
     ]
    },
    {
     "name": "stderr",
     "output_type": "stream",
     "text": [
      "\n",
      "Training  : 100%|████████████████████████████████████████| 859/859 [05:32<00:00,  2.58it/s, loss=0.164]\n",
      "Validating: 100%|██████████████████████████████████████████████████████| 48/48 [00:10<00:00,  4.61it/s]"
     ]
    },
    {
     "name": "stdout",
     "output_type": "stream",
     "text": [
      "Epoch 27, Train loss: 0.1641, Val loss: 0.4273, Val accy: 85.52%\n"
     ]
    },
    {
     "name": "stderr",
     "output_type": "stream",
     "text": [
      "\n",
      "Training  : 100%|████████████████████████████████████████| 859/859 [05:32<00:00,  2.58it/s, loss=0.158]\n",
      "Validating: 100%|██████████████████████████████████████████████████████| 48/48 [00:10<00:00,  4.61it/s]"
     ]
    },
    {
     "name": "stdout",
     "output_type": "stream",
     "text": [
      "Epoch 28, Train loss: 0.1576, Val loss: 0.4531, Val accy: 84.73%\n"
     ]
    },
    {
     "name": "stderr",
     "output_type": "stream",
     "text": [
      "\n",
      "Training  : 100%|████████████████████████████████████████| 859/859 [05:33<00:00,  2.58it/s, loss=0.155]\n",
      "Validating: 100%|██████████████████████████████████████████████████████| 48/48 [00:10<00:00,  4.61it/s]"
     ]
    },
    {
     "name": "stdout",
     "output_type": "stream",
     "text": [
      "Epoch 29, Train loss: 0.1552, Val loss: 0.4488, Val accy: 84.80%\n"
     ]
    },
    {
     "name": "stderr",
     "output_type": "stream",
     "text": [
      "\n",
      "Training  : 100%|████████████████████████████████████████| 859/859 [05:32<00:00,  2.58it/s, loss=0.152]\n",
      "Validating: 100%|██████████████████████████████████████████████████████| 48/48 [00:10<00:00,  4.62it/s]"
     ]
    },
    {
     "name": "stdout",
     "output_type": "stream",
     "text": [
      "Epoch 30, Train loss: 0.1517, Val loss: 0.4616, Val accy: 84.40%\n"
     ]
    },
    {
     "name": "stderr",
     "output_type": "stream",
     "text": [
      "\n",
      "Training  : 100%|█████████████████████████████████████████| 859/859 [05:32<00:00,  2.58it/s, loss=0.15]\n",
      "Validating: 100%|██████████████████████████████████████████████████████| 48/48 [00:10<00:00,  4.62it/s]"
     ]
    },
    {
     "name": "stdout",
     "output_type": "stream",
     "text": [
      "Epoch 31, Train loss: 0.1500, Val loss: 0.4687, Val accy: 84.47%\n"
     ]
    },
    {
     "name": "stderr",
     "output_type": "stream",
     "text": [
      "\n",
      "Training  : 100%|████████████████████████████████████████| 859/859 [05:32<00:00,  2.58it/s, loss=0.149]\n",
      "Validating: 100%|██████████████████████████████████████████████████████| 48/48 [00:10<00:00,  4.61it/s]"
     ]
    },
    {
     "name": "stdout",
     "output_type": "stream",
     "text": [
      "Epoch 32, Train loss: 0.1494, Val loss: 0.4746, Val accy: 84.27%\n"
     ]
    },
    {
     "name": "stderr",
     "output_type": "stream",
     "text": [
      "\n",
      "Training  : 100%|████████████████████████████████████████| 859/859 [05:32<00:00,  2.58it/s, loss=0.148]\n",
      "Validating: 100%|██████████████████████████████████████████████████████| 48/48 [00:10<00:00,  4.61it/s]"
     ]
    },
    {
     "name": "stdout",
     "output_type": "stream",
     "text": [
      "Epoch 33, Train loss: 0.1478, Val loss: 0.4784, Val accy: 84.40%\n"
     ]
    },
    {
     "name": "stderr",
     "output_type": "stream",
     "text": [
      "\n",
      "Training  : 100%|████████████████████████████████████████| 859/859 [05:32<00:00,  2.58it/s, loss=0.144]\n",
      "Validating: 100%|██████████████████████████████████████████████████████| 48/48 [00:10<00:00,  4.59it/s]"
     ]
    },
    {
     "name": "stdout",
     "output_type": "stream",
     "text": [
      "Epoch 34, Train loss: 0.1441, Val loss: 0.4997, Val accy: 84.01%\n"
     ]
    },
    {
     "name": "stderr",
     "output_type": "stream",
     "text": [
      "\n",
      "Training  : 100%|████████████████████████████████████████| 859/859 [05:32<00:00,  2.58it/s, loss=0.144]\n",
      "Validating: 100%|██████████████████████████████████████████████████████| 48/48 [00:10<00:00,  4.62it/s]"
     ]
    },
    {
     "name": "stdout",
     "output_type": "stream",
     "text": [
      "Epoch 35, Train loss: 0.1442, Val loss: 0.4982, Val accy: 84.27%\n"
     ]
    },
    {
     "name": "stderr",
     "output_type": "stream",
     "text": [
      "\n",
      "Training  : 100%|████████████████████████████████████████| 859/859 [05:32<00:00,  2.58it/s, loss=0.144]\n",
      "Validating: 100%|██████████████████████████████████████████████████████| 48/48 [00:10<00:00,  4.61it/s]"
     ]
    },
    {
     "name": "stdout",
     "output_type": "stream",
     "text": [
      "Epoch 36, Train loss: 0.1440, Val loss: 0.5036, Val accy: 84.14%\n"
     ]
    },
    {
     "name": "stderr",
     "output_type": "stream",
     "text": [
      "\n",
      "Training  : 100%|████████████████████████████████████████| 859/859 [05:32<00:00,  2.58it/s, loss=0.139]\n",
      "Validating: 100%|██████████████████████████████████████████████████████| 48/48 [00:10<00:00,  4.61it/s]"
     ]
    },
    {
     "name": "stdout",
     "output_type": "stream",
     "text": [
      "Epoch 37, Train loss: 0.1389, Val loss: 0.5067, Val accy: 83.68%\n"
     ]
    },
    {
     "name": "stderr",
     "output_type": "stream",
     "text": [
      "\n",
      "Training  : 100%|████████████████████████████████████████| 859/859 [05:32<00:00,  2.58it/s, loss=0.136]\n",
      "Validating: 100%|██████████████████████████████████████████████████████| 48/48 [00:10<00:00,  4.61it/s]"
     ]
    },
    {
     "name": "stdout",
     "output_type": "stream",
     "text": [
      "Epoch 38, Train loss: 0.1364, Val loss: 0.5138, Val accy: 84.47%\n"
     ]
    },
    {
     "name": "stderr",
     "output_type": "stream",
     "text": [
      "\n",
      "Training  : 100%|████████████████████████████████████████| 859/859 [05:32<00:00,  2.58it/s, loss=0.136]\n",
      "Validating: 100%|██████████████████████████████████████████████████████| 48/48 [00:10<00:00,  4.62it/s]"
     ]
    },
    {
     "name": "stdout",
     "output_type": "stream",
     "text": [
      "Epoch 39, Train loss: 0.1358, Val loss: 0.5283, Val accy: 84.34%\n"
     ]
    },
    {
     "name": "stderr",
     "output_type": "stream",
     "text": [
      "\n",
      "Training  : 100%|████████████████████████████████████████| 859/859 [05:32<00:00,  2.58it/s, loss=0.134]\n",
      "Validating: 100%|██████████████████████████████████████████████████████| 48/48 [00:10<00:00,  4.62it/s]"
     ]
    },
    {
     "name": "stdout",
     "output_type": "stream",
     "text": [
      "Epoch 40, Train loss: 0.1341, Val loss: 0.5288, Val accy: 84.01%\n"
     ]
    },
    {
     "name": "stderr",
     "output_type": "stream",
     "text": [
      "\n",
      "Training  : 100%|████████████████████████████████████████| 859/859 [05:32<00:00,  2.58it/s, loss=0.132]\n",
      "Validating: 100%|██████████████████████████████████████████████████████| 48/48 [00:10<00:00,  4.61it/s]"
     ]
    },
    {
     "name": "stdout",
     "output_type": "stream",
     "text": [
      "Epoch 41, Train loss: 0.1321, Val loss: 0.5400, Val accy: 84.34%\n"
     ]
    },
    {
     "name": "stderr",
     "output_type": "stream",
     "text": [
      "\n",
      "Training  : 100%|████████████████████████████████████████| 859/859 [05:32<00:00,  2.58it/s, loss=0.129]\n",
      "Validating: 100%|██████████████████████████████████████████████████████| 48/48 [00:10<00:00,  4.61it/s]"
     ]
    },
    {
     "name": "stdout",
     "output_type": "stream",
     "text": [
      "Epoch 42, Train loss: 0.1289, Val loss: 0.5529, Val accy: 84.27%\n"
     ]
    },
    {
     "name": "stderr",
     "output_type": "stream",
     "text": [
      "\n",
      "Training  : 100%|████████████████████████████████████████| 859/859 [05:33<00:00,  2.58it/s, loss=0.131]\n",
      "Validating: 100%|██████████████████████████████████████████████████████| 48/48 [00:10<00:00,  4.60it/s]"
     ]
    },
    {
     "name": "stdout",
     "output_type": "stream",
     "text": [
      "Epoch 43, Train loss: 0.1305, Val loss: 0.5519, Val accy: 84.27%\n"
     ]
    },
    {
     "name": "stderr",
     "output_type": "stream",
     "text": [
      "\n",
      "Training  : 100%|████████████████████████████████████████| 859/859 [05:32<00:00,  2.58it/s, loss=0.129]\n",
      "Validating: 100%|██████████████████████████████████████████████████████| 48/48 [00:10<00:00,  4.60it/s]"
     ]
    },
    {
     "name": "stdout",
     "output_type": "stream",
     "text": [
      "Epoch 44, Train loss: 0.1289, Val loss: 0.5508, Val accy: 84.01%\n"
     ]
    },
    {
     "name": "stderr",
     "output_type": "stream",
     "text": [
      "\n",
      "Training  : 100%|████████████████████████████████████████| 859/859 [05:33<00:00,  2.58it/s, loss=0.127]\n",
      "Validating: 100%|██████████████████████████████████████████████████████| 48/48 [00:10<00:00,  4.61it/s]"
     ]
    },
    {
     "name": "stdout",
     "output_type": "stream",
     "text": [
      "Epoch 45, Train loss: 0.1274, Val loss: 0.5590, Val accy: 84.14%\n"
     ]
    },
    {
     "name": "stderr",
     "output_type": "stream",
     "text": [
      "\n",
      "Training  : 100%|████████████████████████████████████████| 859/859 [05:32<00:00,  2.58it/s, loss=0.128]\n",
      "Validating: 100%|██████████████████████████████████████████████████████| 48/48 [00:10<00:00,  4.59it/s]"
     ]
    },
    {
     "name": "stdout",
     "output_type": "stream",
     "text": [
      "Epoch 46, Train loss: 0.1281, Val loss: 0.5602, Val accy: 84.14%\n"
     ]
    },
    {
     "name": "stderr",
     "output_type": "stream",
     "text": [
      "\n",
      "Training  : 100%|████████████████████████████████████████| 859/859 [05:33<00:00,  2.58it/s, loss=0.128]\n",
      "Validating: 100%|██████████████████████████████████████████████████████| 48/48 [00:10<00:00,  4.61it/s]"
     ]
    },
    {
     "name": "stdout",
     "output_type": "stream",
     "text": [
      "Epoch 47, Train loss: 0.1277, Val loss: 0.5609, Val accy: 84.14%\n"
     ]
    },
    {
     "name": "stderr",
     "output_type": "stream",
     "text": [
      "\n",
      "Training  : 100%|████████████████████████████████████████| 859/859 [05:33<00:00,  2.58it/s, loss=0.128]\n",
      "Validating: 100%|██████████████████████████████████████████████████████| 48/48 [00:10<00:00,  4.59it/s]"
     ]
    },
    {
     "name": "stdout",
     "output_type": "stream",
     "text": [
      "Epoch 48, Train loss: 0.1281, Val loss: 0.5553, Val accy: 84.08%\n"
     ]
    },
    {
     "name": "stderr",
     "output_type": "stream",
     "text": [
      "\n",
      "Training  : 100%|████████████████████████████████████████| 859/859 [05:33<00:00,  2.58it/s, loss=0.126]\n",
      "Validating: 100%|██████████████████████████████████████████████████████| 48/48 [00:10<00:00,  4.60it/s]"
     ]
    },
    {
     "name": "stdout",
     "output_type": "stream",
     "text": [
      "Epoch 49, Train loss: 0.1256, Val loss: 0.5587, Val accy: 84.08%\n"
     ]
    },
    {
     "name": "stderr",
     "output_type": "stream",
     "text": [
      "\n",
      "Training  : 100%|████████████████████████████████████████| 859/859 [05:33<00:00,  2.58it/s, loss=0.123]\n",
      "Validating: 100%|██████████████████████████████████████████████████████| 48/48 [00:10<00:00,  4.60it/s]"
     ]
    },
    {
     "name": "stdout",
     "output_type": "stream",
     "text": [
      "Epoch 50, Train loss: 0.1232, Val loss: 0.5578, Val accy: 84.08%\n"
     ]
    },
    {
     "name": "stderr",
     "output_type": "stream",
     "text": [
      "\n"
     ]
    },
    {
     "data": {
      "text/plain": [
       "BertClassifier(bert_model='scibert-basevocab-cased', do_lower_case=False,\n",
       "               epochs=50, eval_batch_size=32, gradient_accumulation_steps=2,\n",
       "               label_list=array([0, 1, 2, 3]), learning_rate=3e-06,\n",
       "               max_seq_length=256, warmup_proportion=0.2)"
      ]
     },
     "execution_count": 22,
     "metadata": {},
     "output_type": "execute_result"
    }
   ],
   "source": [
    "# finetune model on train data\n",
    "model.fit(X_train, y_train)"
   ]
  },
  {
   "cell_type": "code",
   "execution_count": 23,
   "id": "8f4b4b5f",
   "metadata": {},
   "outputs": [],
   "source": [
    "#Save model to disk\n",
    "savefile = 'classifi_model50_256_with_netrual.bin'\n",
    "model.save(savefile)"
   ]
  },
  {
   "cell_type": "code",
   "execution_count": 19,
   "id": "46467961",
   "metadata": {},
   "outputs": [
    {
     "name": "stdout",
     "output_type": "stream",
     "text": [
      "Loading model from classifi_model10_178_with_netrual.bin...\n",
      "Defaulting to linear classifier/regressor\n",
      "Building sklearn text classifier...\n"
     ]
    }
   ],
   "source": [
    "#load the save the model\n",
    "savefile = 'classifi_model10_178_with_netrual.bin'\n",
    "#load model from disk\n",
    "model = load_model(savefile)"
   ]
  },
  {
   "cell_type": "code",
   "execution_count": 25,
   "id": "270ab112",
   "metadata": {},
   "outputs": [
    {
     "name": "stderr",
     "output_type": "stream",
     "text": [
      "Predicting: 100%|████████████████████████████████████████████████████| 478/478 [01:41<00:00,  4.72it/s]"
     ]
    },
    {
     "name": "stdout",
     "output_type": "stream",
     "text": [
      "              precision    recall  f1-score   support\n",
      "\n",
      "           0       0.94      0.98      0.96     10595\n",
      "           1       0.78      0.88      0.82      1846\n",
      "           2       0.70      0.61      0.65       493\n",
      "           3       0.99      0.74      0.84      2332\n",
      "\n",
      "    accuracy                           0.92     15266\n",
      "   macro avg       0.85      0.80      0.82     15266\n",
      "weighted avg       0.92      0.92      0.91     15266\n",
      "\n",
      "Accuracy of test: 0.915236473208437\n"
     ]
    },
    {
     "name": "stderr",
     "output_type": "stream",
     "text": [
      "\n"
     ]
    }
   ],
   "source": [
    "# get predictions on test data\n",
    "y_pred_train = model.predict(X_train)\n",
    "\n",
    "# print report on classifier stats\n",
    "print(classification_report(y_train, y_pred_train))\n",
    "\n",
    "#Get accuracy on train data\n",
    "print('Accuracy of test:', accuracy_score(y_train, y_pred_train))"
   ]
  },
  {
   "cell_type": "code",
   "execution_count": 28,
   "id": "1e69db2e",
   "metadata": {},
   "outputs": [
    {
     "data": {
      "text/plain": [
       "array([[10389,   133,    32,    41],\n",
       "       [  206,  1545,    71,    24],\n",
       "       [   51,   112,   328,     2],\n",
       "       [  474,    66,     0,  1792]])"
      ]
     },
     "execution_count": 28,
     "metadata": {},
     "output_type": "execute_result"
    }
   ],
   "source": [
    "#Print the confusion\n",
    "metrics.confusion_matrix(y_train, y_pred_train)"
   ]
  },
  {
   "cell_type": "code",
   "execution_count": 26,
   "id": "faf7ec18",
   "metadata": {},
   "outputs": [
    {
     "name": "stderr",
     "output_type": "stream",
     "text": [
      "Predicting: 100%|████████████████████████████████████████████████████| 120/120 [00:25<00:00,  4.67it/s]"
     ]
    },
    {
     "name": "stdout",
     "output_type": "stream",
     "text": [
      "              precision    recall  f1-score   support\n",
      "\n",
      "           0       0.92      0.96      0.94      2677\n",
      "           1       0.72      0.82      0.77       455\n",
      "           2       0.61      0.57      0.59       123\n",
      "           3       0.96      0.70      0.81       562\n",
      "\n",
      "    accuracy                           0.89      3817\n",
      "   macro avg       0.80      0.76      0.78      3817\n",
      "weighted avg       0.89      0.89      0.89      3817\n",
      "\n",
      "Accuracy of test: 0.8902279276919046\n"
     ]
    },
    {
     "name": "stderr",
     "output_type": "stream",
     "text": [
      "\n"
     ]
    }
   ],
   "source": [
    "#Get predictions on test data\n",
    "y_pred_test = model.predict(X_test)\n",
    "\n",
    "#Print report on classifier stats\n",
    "print(classification_report(y_test, y_pred_test))\n",
    "\n",
    "#Accuracy on train data\n",
    "print('Accuracy of test:', accuracy_score(y_test, y_pred_test))"
   ]
  },
  {
   "cell_type": "code",
   "execution_count": 27,
   "id": "7b0f0125",
   "metadata": {},
   "outputs": [
    {
     "data": {
      "text/plain": [
       "array([[2565,   71,   26,   15],\n",
       "       [  64,  371,   18,    2],\n",
       "       [  12,   41,   70,    0],\n",
       "       [ 140,   29,    1,  392]])"
      ]
     },
     "execution_count": 27,
     "metadata": {},
     "output_type": "execute_result"
    }
   ],
   "source": [
    "#Print the confusion matrix\n",
    "metrics.confusion_matrix(y_test, y_pred_test)"
   ]
  }
 ],
 "metadata": {
  "kernelspec": {
   "display_name": "MKT",
   "language": "python",
   "name": "mkt"
  },
  "language_info": {
   "codemirror_mode": {
    "name": "ipython",
    "version": 3
   },
   "file_extension": ".py",
   "mimetype": "text/x-python",
   "name": "python",
   "nbconvert_exporter": "python",
   "pygments_lexer": "ipython3",
   "version": "3.9.7"
  }
 },
 "nbformat": 4,
 "nbformat_minor": 5
}
