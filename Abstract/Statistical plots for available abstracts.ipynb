{
 "cells": [
  {
   "cell_type": "code",
   "execution_count": 13,
   "id": "977dc09d",
   "metadata": {},
   "outputs": [],
   "source": [
    "#Import basic libraries\n",
    "import pandas as pd\n",
    "import numpy as np\n",
    "\n",
    "#visualization library\n",
    "import matplotlib.pyplot as plt\n",
    "from matplotlib import rc"
   ]
  },
  {
   "cell_type": "code",
   "execution_count": 8,
   "id": "3a40dda7",
   "metadata": {},
   "outputs": [
    {
     "data": {
      "text/html": [
       "<div>\n",
       "<style scoped>\n",
       "    .dataframe tbody tr th:only-of-type {\n",
       "        vertical-align: middle;\n",
       "    }\n",
       "\n",
       "    .dataframe tbody tr th {\n",
       "        vertical-align: top;\n",
       "    }\n",
       "\n",
       "    .dataframe thead th {\n",
       "        text-align: right;\n",
       "    }\n",
       "</style>\n",
       "<table border=\"1\" class=\"dataframe\">\n",
       "  <thead>\n",
       "    <tr style=\"text-align: right;\">\n",
       "      <th></th>\n",
       "      <th>No. of sentence</th>\n",
       "      <th>word_count</th>\n",
       "      <th>avg_word</th>\n",
       "      <th>No of stopwords</th>\n",
       "    </tr>\n",
       "  </thead>\n",
       "  <tbody>\n",
       "    <tr>\n",
       "      <th>0</th>\n",
       "      <td>3</td>\n",
       "      <td>206</td>\n",
       "      <td>4.791262</td>\n",
       "      <td>59</td>\n",
       "    </tr>\n",
       "    <tr>\n",
       "      <th>1</th>\n",
       "      <td>7</td>\n",
       "      <td>160</td>\n",
       "      <td>5.131250</td>\n",
       "      <td>61</td>\n",
       "    </tr>\n",
       "    <tr>\n",
       "      <th>2</th>\n",
       "      <td>7</td>\n",
       "      <td>215</td>\n",
       "      <td>4.934884</td>\n",
       "      <td>75</td>\n",
       "    </tr>\n",
       "    <tr>\n",
       "      <th>3</th>\n",
       "      <td>6</td>\n",
       "      <td>224</td>\n",
       "      <td>4.950893</td>\n",
       "      <td>68</td>\n",
       "    </tr>\n",
       "    <tr>\n",
       "      <th>4</th>\n",
       "      <td>6</td>\n",
       "      <td>200</td>\n",
       "      <td>5.605000</td>\n",
       "      <td>50</td>\n",
       "    </tr>\n",
       "  </tbody>\n",
       "</table>\n",
       "</div>"
      ],
      "text/plain": [
       "   No. of sentence  word_count  avg_word  No of stopwords\n",
       "0                3         206  4.791262               59\n",
       "1                7         160  5.131250               61\n",
       "2                7         215  4.934884               75\n",
       "3                6         224  4.950893               68\n",
       "4                6         200  5.605000               50"
      ]
     },
     "execution_count": 8,
     "metadata": {},
     "output_type": "execute_result"
    }
   ],
   "source": [
    "#Data load here\n",
    "df_data =  pd.read_csv(r'C:\\Users\\kumar\\OneDrive - IIT Delhi\\CPCB\\PROF. HARI\\data_final\\abstract_available\\df_data_hyro_KEY_values.csv')\n",
    "df_data = df_data.drop(['Unnamed: 0', 'stopwords'], axis =1) #Delete the unwanted column\n",
    "df_data.head()  #shown first 5 rows for data frame"
   ]
  },
  {
   "cell_type": "code",
   "execution_count": 9,
   "id": "0d927551",
   "metadata": {},
   "outputs": [],
   "source": [
    "#Access the no of sentence column \n",
    "no_sent = df_data['No. of sentence'].to_list()\n",
    "\n",
    "#Access the no of words present in abstract column\n",
    "word_count = df_data['word_count'].to_list()\n",
    "\n",
    "#Access the average length of words present column\n",
    "avg_word = df_data['avg_word'].to_list()\n",
    "\n",
    "#Access the total stop words present column\n",
    "no_stopwards = df_data['No of stopwords'].to_list()"
   ]
  },
  {
   "cell_type": "code",
   "execution_count": 12,
   "id": "e688b280",
   "metadata": {},
   "outputs": [
    {
     "data": {
      "text/html": [
       "<div>\n",
       "<style scoped>\n",
       "    .dataframe tbody tr th:only-of-type {\n",
       "        vertical-align: middle;\n",
       "    }\n",
       "\n",
       "    .dataframe tbody tr th {\n",
       "        vertical-align: top;\n",
       "    }\n",
       "\n",
       "    .dataframe thead th {\n",
       "        text-align: right;\n",
       "    }\n",
       "</style>\n",
       "<table border=\"1\" class=\"dataframe\">\n",
       "  <thead>\n",
       "    <tr style=\"text-align: right;\">\n",
       "      <th></th>\n",
       "      <th>No. of sentence</th>\n",
       "      <th>word_count</th>\n",
       "      <th>avg_word</th>\n",
       "      <th>No of stopwords</th>\n",
       "    </tr>\n",
       "  </thead>\n",
       "  <tbody>\n",
       "    <tr>\n",
       "      <th>count</th>\n",
       "      <td>5945.000000</td>\n",
       "      <td>5945.000000</td>\n",
       "      <td>5945.000000</td>\n",
       "      <td>5945.000000</td>\n",
       "    </tr>\n",
       "    <tr>\n",
       "      <th>mean</th>\n",
       "      <td>7.234651</td>\n",
       "      <td>197.170563</td>\n",
       "      <td>5.208286</td>\n",
       "      <td>61.625063</td>\n",
       "    </tr>\n",
       "    <tr>\n",
       "      <th>std</th>\n",
       "      <td>2.526164</td>\n",
       "      <td>65.258221</td>\n",
       "      <td>0.474480</td>\n",
       "      <td>21.979930</td>\n",
       "    </tr>\n",
       "    <tr>\n",
       "      <th>min</th>\n",
       "      <td>1.000000</td>\n",
       "      <td>1.000000</td>\n",
       "      <td>1.000000</td>\n",
       "      <td>0.000000</td>\n",
       "    </tr>\n",
       "    <tr>\n",
       "      <th>25%</th>\n",
       "      <td>6.000000</td>\n",
       "      <td>159.000000</td>\n",
       "      <td>4.936047</td>\n",
       "      <td>48.000000</td>\n",
       "    </tr>\n",
       "    <tr>\n",
       "      <th>50%</th>\n",
       "      <td>7.000000</td>\n",
       "      <td>190.000000</td>\n",
       "      <td>5.213018</td>\n",
       "      <td>59.000000</td>\n",
       "    </tr>\n",
       "    <tr>\n",
       "      <th>75%</th>\n",
       "      <td>9.000000</td>\n",
       "      <td>234.000000</td>\n",
       "      <td>5.506667</td>\n",
       "      <td>74.000000</td>\n",
       "    </tr>\n",
       "    <tr>\n",
       "      <th>max</th>\n",
       "      <td>28.000000</td>\n",
       "      <td>615.000000</td>\n",
       "      <td>7.000000</td>\n",
       "      <td>218.000000</td>\n",
       "    </tr>\n",
       "  </tbody>\n",
       "</table>\n",
       "</div>"
      ],
      "text/plain": [
       "       No. of sentence   word_count     avg_word  No of stopwords\n",
       "count      5945.000000  5945.000000  5945.000000      5945.000000\n",
       "mean          7.234651   197.170563     5.208286        61.625063\n",
       "std           2.526164    65.258221     0.474480        21.979930\n",
       "min           1.000000     1.000000     1.000000         0.000000\n",
       "25%           6.000000   159.000000     4.936047        48.000000\n",
       "50%           7.000000   190.000000     5.213018        59.000000\n",
       "75%           9.000000   234.000000     5.506667        74.000000\n",
       "max          28.000000   615.000000     7.000000       218.000000"
      ]
     },
     "execution_count": 12,
     "metadata": {},
     "output_type": "execute_result"
    }
   ],
   "source": [
    "#describe the statistical analsys \n",
    "df_data.describe()"
   ]
  },
  {
   "cell_type": "code",
   "execution_count": 10,
   "id": "8649358d",
   "metadata": {},
   "outputs": [
    {
     "data": {
      "image/png": "[encoded data removed]",
      "text/plain": [
       "<Figure size 432x288 with 1 Axes>"
      ]
     },
     "metadata": {
      "needs_background": "light"
     },
     "output_type": "display_data"
    }
   ],
   "source": [
    "#Histogram plot for number of sentence present in each sentence\n",
    "plt.hist(no_sent, bins= 40, label='$\\mu$ =''%.3f'%np.mean(no_sent))\n",
    "\n",
    "plt.ylabel(\"Frequency\",fontweight='bold', fontsize=14)\n",
    "plt.xlabel(\"No of sentences\", fontweight='bold', fontsize=14)\n",
    "\n",
    "plt.rcParams['axes.linewidth'] = 2\n",
    "\n",
    "plt.tick_params(axis=\"x\", direction=\"in\",width=2)\n",
    "plt.tick_params(axis=\"y\", direction=\"in\", width=2)\n",
    "rc('font', weight='bold')\n",
    "plt.legend()\n",
    "\n",
    "#Save the plot in pdf form\n",
    "plt.savefig(r'C:\\Users\\kumar\\OneDrive - IIT Delhi\\CPCB\\PROF. HARI\\data_final\\pictures\\no_sent.pdf', dpi=5000)\n",
    "\n",
    "plt.show()"
   ]
  },
  {
   "cell_type": "code",
   "execution_count": 11,
   "id": "ff3c9a6b",
   "metadata": {},
   "outputs": [
    {
     "data": {
      "image/png": "[encoded data removed]",
      "text/plain": [
       "<Figure size 432x288 with 1 Axes>"
      ]
     },
     "metadata": {
      "needs_background": "light"
     },
     "output_type": "display_data"
    }
   ],
   "source": [
    "#Histogram plot for number of words present in each sentence\n",
    "plt.hist(word_count, bins= 40, label='$\\mu$ =''%.3f'%np.mean(word_count) )\n",
    "\n",
    "plt.ylabel(\"Frequency\",fontweight='bold', fontsize=14)\n",
    "plt.xlabel(\"No of words\", fontweight='bold', fontsize=14)\n",
    "\n",
    "plt.rcParams['axes.linewidth'] = 2\n",
    "\n",
    "plt.tick_params(axis=\"x\", direction=\"in\",width=2)\n",
    "plt.tick_params(axis=\"y\", direction=\"in\", width=2)\n",
    "rc('font', weight='bold')\n",
    "plt.legend()\n",
    "\n",
    "#Save the plot in pdf form\n",
    "plt.savefig(r'C:\\Users\\kumar\\OneDrive - IIT Delhi\\CPCB\\PROF. HARI\\data_final\\pictures\\word_count.pdf', dpi=5000)\n",
    "plt.show()"
   ]
  },
  {
   "cell_type": "code",
   "execution_count": 12,
   "id": "2fa087f0",
   "metadata": {},
   "outputs": [
    {
     "data": {
      "image/png": "[encoded data removed]",
      "text/plain": [
       "<Figure size 432x288 with 1 Axes>"
      ]
     },
     "metadata": {
      "needs_background": "light"
     },
     "output_type": "display_data"
    }
   ],
   "source": [
    "#Histogram plot for average length of words present in each sentence\n",
    "plt.hist(avg_word, bins= 40, label='$\\mu$ =''%.3f'%np.mean(word_count) )\n",
    "\n",
    "plt.ylabel(\"Frequency\",fontweight='bold', fontsize=14)\n",
    "plt.xlabel(\"Average size words\", fontweight='bold', fontsize=14)\n",
    "\n",
    "plt.rcParams['axes.linewidth'] = 2\n",
    "\n",
    "plt.tick_params(axis=\"x\", direction=\"in\",width=2)\n",
    "plt.tick_params(axis=\"y\", direction=\"in\", width=2)\n",
    "rc('font', weight='bold')\n",
    "plt.legend()\n",
    "\n",
    "#Save the plot in pdf form\n",
    "plt.savefig(r'C:\\Users\\kumar\\OneDrive - IIT Delhi\\CPCB\\PROF. HARI\\data_final\\pictures\\avg_word.pdf', dpi=5000)\n",
    "plt.show()"
   ]
  },
  {
   "cell_type": "code",
   "execution_count": 13,
   "id": "1841a98d",
   "metadata": {},
   "outputs": [
    {
     "data": {
      "image/png": "[encoded data removed]",
      "text/plain": [
       "<Figure size 432x288 with 1 Axes>"
      ]
     },
     "metadata": {
      "needs_background": "light"
     },
     "output_type": "display_data"
    }
   ],
   "source": [
    "#Histogram plot for average length of words present in each sentence\n",
    "plt.hist(no_stopwards, bins= 40, label='$\\mu$ =''%.3f'%np.mean(no_stopwards));\n",
    "\n",
    "plt.ylabel(\"Frequency\",fontweight='bold', fontsize=14)\n",
    "plt.xlabel(\"No of stopwards\", fontweight='bold', fontsize=14)\n",
    "\n",
    "plt.rcParams['axes.linewidth'] = 2\n",
    "\n",
    "plt.tick_params(axis=\"x\", direction=\"in\",width=2)\n",
    "plt.tick_params(axis=\"y\", direction=\"in\", width=2)\n",
    "rc('font', weight='bold')\n",
    "plt.legend()\n",
    "\n",
    "#Save the plot in pdf form\n",
    "plt.savefig(r'C:\\Users\\kumar\\OneDrive - IIT Delhi\\CPCB\\PROF. HARI\\data_final\\pictures\\no_of_stopwords.pdf', dpi=5000)\n",
    "plt.show()"
   ]
  }
 ],
 "metadata": {
  "kernelspec": {
   "display_name": "myenv",
   "language": "python",
   "name": "myenv"
  },
  "language_info": {
   "codemirror_mode": {
    "name": "ipython",
    "version": 3
   },
   "file_extension": ".py",
   "mimetype": "text/x-python",
   "name": "python",
   "nbconvert_exporter": "python",
   "pygments_lexer": "ipython3",
   "version": "3.9.7"
  }
 },
 "nbformat": 4,
 "nbformat_minor": 5
}
