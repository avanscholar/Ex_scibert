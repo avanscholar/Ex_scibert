{
 "cells": [
  {
   "cell_type": "code",
   "execution_count": null,
   "id": "977dc09d",
   "metadata": {},
   "outputs": [],
   "source": [
    "#Import basic libraries\n",
    "import pandas as pd\n",
    "import numpy as np\n",
    "\n",
    "#visualization library\n",
    "import matplotlib.pyplot as plt\n",
    "from matplotlib import rc"
   ]
  },
  {
   "cell_type": "code",
   "execution_count": null,
   "id": "3a40dda7",
   "metadata": {},
   "outputs": [],
   "source": [
    "#Data load here\n",
    "df_data =  pd.read_csv(r'C:\\Users\\kumar\\OneDrive - IIT Delhi\\CPCB\\PROF. HARI\\data_final\\abstract_available\\df_data_hyro_KEY_values.csv')\n",
    "df_data = df_data.drop(['Unnamed: 0', 'stopwords'], axis =1) #Delete the unwanted column\n",
    "df_data.head()  #shown first 5 rows for data frame"
   ]
  },
  {
   "cell_type": "code",
   "execution_count": null,
   "id": "0d927551",
   "metadata": {},
   "outputs": [],
   "source": [
    "#Access the no of sentence column \n",
    "no_sent = df_data['No. of sentence'].to_list()\n",
    "\n",
    "#Access the no of words present in abstract column\n",
    "word_count = df_data['word_count'].to_list()\n",
    "\n",
    "#Access the average length of words present column\n",
    "avg_word = df_data['avg_word'].to_list()\n",
    "\n",
    "#Access the total stop words present column\n",
    "no_stopwards = df_data['No of stopwords'].to_list()"
   ]
  },
  {
   "cell_type": "code",
   "execution_count": null,
   "id": "e688b280",
   "metadata": {},
   "outputs": [],
   "source": [
    "#describe the statistical analsys \n",
    "df_data.describe()"
   ]
  },
  {
   "cell_type": "code",
   "execution_count": null,
   "id": "8649358d",
   "metadata": {},
   "outputs": [],
   "source": [
    "#Histogram plot for number of sentence present in each sentence\n",
    "plt.hist(no_sent, bins= 40, label='$\\mu$ =''%.3f'%np.mean(no_sent))\n",
    "\n",
    "plt.ylabel(\"Frequency\",fontweight='bold', fontsize=14)\n",
    "plt.xlabel(\"No of sentences\", fontweight='bold', fontsize=14)\n",
    "\n",
    "plt.rcParams['axes.linewidth'] = 2\n",
    "\n",
    "plt.tick_params(axis=\"x\", direction=\"in\",width=2)\n",
    "plt.tick_params(axis=\"y\", direction=\"in\", width=2)\n",
    "rc('font', weight='bold')\n",
    "plt.legend()\n",
    "\n",
    "#Save the plot in pdf form\n",
    "plt.savefig(r'C:\\Users\\kumar\\OneDrive - IIT Delhi\\CPCB\\PROF. HARI\\data_final\\pictures\\no_sent.pdf', dpi=5000)\n",
    "\n",
    "plt.show()"
   ]
  },
  {
   "cell_type": "code",
   "execution_count": null,
   "id": "ff3c9a6b",
   "metadata": {},
   "outputs": [],
   "source": [
    "#Histogram plot for number of words present in each sentence\n",
    "plt.hist(word_count, bins= 40, label='$\\mu$ =''%.3f'%np.mean(word_count) )\n",
    "\n",
    "plt.ylabel(\"Frequency\",fontweight='bold', fontsize=14)\n",
    "plt.xlabel(\"No of words\", fontweight='bold', fontsize=14)\n",
    "\n",
    "plt.rcParams['axes.linewidth'] = 2\n",
    "\n",
    "plt.tick_params(axis=\"x\", direction=\"in\",width=2)\n",
    "plt.tick_params(axis=\"y\", direction=\"in\", width=2)\n",
    "rc('font', weight='bold')\n",
    "plt.legend()\n",
    "\n",
    "#Save the plot in pdf form\n",
    "plt.savefig(r'C:\\Users\\kumar\\OneDrive - IIT Delhi\\CPCB\\PROF. HARI\\data_final\\pictures\\word_count.pdf', dpi=5000)\n",
    "plt.show()"
   ]
  },
  {
   "cell_type": "code",
   "execution_count": null,
   "id": "2fa087f0",
   "metadata": {},
   "outputs": [],
   "source": [
    "#Histogram plot for average length of words present in each sentence\n",
    "plt.hist(avg_word, bins= 40, label='$\\mu$ =''%.3f'%np.mean(word_count) )\n",
    "\n",
    "plt.ylabel(\"Frequency\",fontweight='bold', fontsize=14)\n",
    "plt.xlabel(\"Average size words\", fontweight='bold', fontsize=14)\n",
    "\n",
    "plt.rcParams['axes.linewidth'] = 2\n",
    "\n",
    "plt.tick_params(axis=\"x\", direction=\"in\",width=2)\n",
    "plt.tick_params(axis=\"y\", direction=\"in\", width=2)\n",
    "rc('font', weight='bold')\n",
    "plt.legend()\n",
    "\n",
    "#Save the plot in pdf form\n",
    "plt.savefig(r'C:\\Users\\kumar\\OneDrive - IIT Delhi\\CPCB\\PROF. HARI\\data_final\\pictures\\avg_word.pdf', dpi=5000)\n",
    "plt.show()"
   ]
  },
  {
   "cell_type": "code",
   "execution_count": null,
   "id": "1841a98d",
   "metadata": {},
   "outputs": [],
   "source": [
    "#Histogram plot for average length of words present in each sentence\n",
    "plt.hist(no_stopwards, bins= 40, label='$\\mu$ =''%.3f'%np.mean(no_stopwards));\n",
    "\n",
    "plt.ylabel(\"Frequency\",fontweight='bold', fontsize=14)\n",
    "plt.xlabel(\"No of stopwards\", fontweight='bold', fontsize=14)\n",
    "\n",
    "plt.rcParams['axes.linewidth'] = 2\n",
    "\n",
    "plt.tick_params(axis=\"x\", direction=\"in\",width=2)\n",
    "plt.tick_params(axis=\"y\", direction=\"in\", width=2)\n",
    "rc('font', weight='bold')\n",
    "plt.legend()\n",
    "\n",
    "#Save the plot in pdf form\n",
    "plt.savefig(r'C:\\Users\\kumar\\OneDrive - IIT Delhi\\CPCB\\PROF. HARI\\data_final\\pictures\\no_of_stopwords.pdf', dpi=5000)\n",
    "plt.show()"
   ]
  }
 ],
 "metadata": {
  "kernelspec": {
   "display_name": "Python 3",
   "language": "python",
   "name": "python3"
  },
  "language_info": {
   "codemirror_mode": {
    "name": "ipython",
    "version": 3
   },
   "file_extension": ".py",
   "mimetype": "text/x-python",
   "name": "python",
   "nbconvert_exporter": "python",
   "pygments_lexer": "ipython3",
   "version": "3.8.8"
  }
 },
 "nbformat": 4,
 "nbformat_minor": 5
}
