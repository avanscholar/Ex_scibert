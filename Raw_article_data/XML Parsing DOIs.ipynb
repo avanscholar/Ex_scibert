{
 "cells": [
  {
   "cell_type": "markdown",
   "metadata": {},
   "source": [
    "## Importing Libraries"
   ]
  },
  {
   "cell_type": "code",
   "execution_count": 1,
   "metadata": {},
   "outputs": [],
   "source": [
    "#Elsevier Libraries\n",
    "from elsapy.elsclient import ElsClient\n",
    "from elsapy.elsprofile import ElsAuthor, ElsAffil\n",
    "from elsapy.elsdoc import FullDoc, AbsDoc\n",
    "from elsapy.elssearch import ElsSearch\n",
    "\n",
    "#Libraries for URL access\n",
    "import json\n",
    "import csv\n",
    "import pprint\n",
    "import requests\n",
    "import xmltodict\n",
    "import urllib3\n",
    "import numpy as np\n",
    "\n",
    "#Import warnings library\n",
    "import warnings\n",
    "warnings.filterwarnings(\"ignore\")"
   ]
  },
  {
   "cell_type": "code",
   "execution_count": 2,
   "metadata": {},
   "outputs": [],
   "source": [
    "#xml.etree.ElementTree — The ElementTree XML API\n",
    "import xml.etree.ElementTree as ET"
   ]
  },
  {
   "cell_type": "code",
   "execution_count": 3,
   "metadata": {},
   "outputs": [],
   "source": [
    "info_list = [] #Creating an empty list to store the  info\n",
    "#Rerunning this will delete the data that will be stored further\n",
    "#Run only once"
   ]
  },
  {
   "cell_type": "code",
   "execution_count": 4,
   "metadata": {},
   "outputs": [
    {
     "name": "stdout",
     "output_type": "stream",
     "text": [
      "[   0  100  200  300  400  500  600  700  800  900 1000 1100 1200 1300\n",
      " 1400 1500 1600 1700 1800 1900 2000 2100 2200 2300 2400 2500 2600 2700\n",
      " 2800 2900 3000 3100 3200 3300 3400 3500 3600 3700 3800 3900 4000 4100\n",
      " 4200 4300 4400 4500 4600 4700 4800 4900 5000 5100 5200 5300 5400 5500\n",
      " 5600 5700 5800 5900]\n"
     ]
    }
   ],
   "source": [
    "#Create a num array of 0 to 5900 spaces 100 apart per page. Each page of Search returns 100 entries until 6000 is reached\n",
    "num = np.linspace(0, 5900, 60, dtype = int)\n",
    "print(num)\n",
    "#Maximum of 6000 searches are returned on calling the ElsSearch API"
   ]
  },
  {
   "cell_type": "markdown",
   "metadata": {},
   "source": [
    "## Accessing the Links - API Extraction"
   ]
  },
  {
   "cell_type": "code",
   "execution_count": 5,
   "metadata": {},
   "outputs": [],
   "source": [
    "#Append \"apikey\" and \"insttoken\" as suggest in the ElsSearch document into a config file\n",
    "config = {\n",
    "    \"apikey\": \"2dc442325fc67f2f275ec3157ef8df65\",\n",
    " \"insttoken\": \"6beb1f6c29d85f50029bf11c8de94d1b\"\n",
    "    }\n",
    "\n",
    "client = ElsClient(config['apikey'])\n",
    "client.inst_token = config['insttoken']"
   ]
  },
  {
   "cell_type": "code",
   "execution_count": 6,
   "metadata": {},
   "outputs": [],
   "source": [
    "def XML_DOI(link):\n",
    "    \n",
    "    #defining a header's dictionary to pass through requests\n",
    "    headers_dict = {\"X-ELS-APIKey\": \"2dc442325fc67f2f275ec3157ef8df65\", \"X-ELS-Insttoken\": \"6beb1f6c29d85f50029bf11c8de94d1b\", \"Accept\": \"application/xml\"}\n",
    "    \n",
    "    #x takes response of the HTTP request, passes link\n",
    "    x = requests.get(link, headers=headers_dict)\n",
    "    \n",
    "    #Save it as XML file\n",
    "    with open(\"doi.xml\", 'wb') as f:\n",
    "        f.write(x.content)"
   ]
  },
  {
   "cell_type": "code",
   "execution_count": 9,
   "metadata": {},
   "outputs": [],
   "source": [
    "link_list = []\n",
    "\n",
    "#Loop to iterate over all papers\n",
    "#UPI query can take many arguments.\n",
    "#start, count, query are a few as name suggests\n",
    "for i in range(0, 60):\n",
    "    \n",
    "    start = \"https://api.elsevier.com/content/search/sciencedirect?\" \n",
    "    count = \"start=\" + str(num[i]) + \"&count=100\"\n",
    "    query = \"&query=hydrogen+production+using+alcohol\"\n",
    "    endapi = \"&apiKey=2dc442325fc67f2f275ec3157ef8df65&insttoken=6beb1f6c29d85f50029bf11c8de94d1b\"\n",
    "    \n",
    "    link = start + count + query # + endapi \n",
    "    #print(link)\n",
    "    link_list.append(link)\n",
    "#subscription = \"&subscribed=true\""
   ]
  },
  {
   "cell_type": "code",
   "execution_count": 11,
   "metadata": {},
   "outputs": [
    {
     "data": {
      "text/plain": [
       "'https://api.elsevier.com/content/search/sciencedirect?start=600&count=100&query=hydrogen+production+using+alcohol'"
      ]
     },
     "execution_count": 11,
     "metadata": {},
     "output_type": "execute_result"
    }
   ],
   "source": [
    "link_list[6]"
   ]
  },
  {
   "cell_type": "markdown",
   "metadata": {},
   "source": [
    "## XML Parsing"
   ]
  },
  {
   "cell_type": "code",
   "execution_count": 12,
   "metadata": {},
   "outputs": [],
   "source": [
    "# Call the XML_DOI function\n",
    "for j in range(0, 60):\n",
    "    xmlfile = XML_DOI(link_list[j])\n",
    "    #Read the data\n",
    "    #<?xml version=\"1.0\" encoding=\"UTF-8\"?>\n",
    "    tree = ET.parse(r'C:\\Users\\Admin\\OneDrive - IIT Delhi\\CPCB\\PROF. HARI\\Jupyter_file\\Ex_scibert\\doi.xml')\n",
    "    root = tree.getroot()\n",
    "    for entry in root.findall('{http://www.w3.org/2005/Atom}entry'):\n",
    "    \n",
    "        info_dict = {} #This will create a dictionary where we will store information about the searches\n",
    "    \n",
    "        '''\n",
    "        CHECK CODE\n",
    "        url = entry.find('{http://prismstandard.org/namespaces/basic/2.0/}url').text\n",
    "        title = entry.find('{http://purl.org/dc/elements/1.1/}title').text\n",
    "        pub_name = entry.find('{http://prismstandard.org/namespaces/basic/2.0/}publicationName').text\n",
    "        doi = entry.find('{http://prismstandard.org/namespaces/basic/2.0/}doi').text\n",
    "        #description = entry.find('{http://purl.org/dc/elements/1.1/}description').text\n",
    "        print(url, title, pub_name, doi)\n",
    "        print('\\n')\n",
    "        \n",
    "        '''\n",
    "    \n",
    "        info_dict['URL'] = entry.find('{http://prismstandard.org/namespaces/basic/2.0/}url').text\n",
    "        info_dict['Title'] = entry.find('{http://purl.org/dc/elements/1.1/}title').text\n",
    "        info_dict['Pub_Name'] = entry.find('{http://prismstandard.org/namespaces/basic/2.0/}publicationName').text\n",
    "        doi = entry.find('{http://prismstandard.org/namespaces/basic/2.0/}doi')\n",
    "        if doi is None:\n",
    "            info_dict['DOI'] = None\n",
    "        else:\n",
    "            info_dict['DOI'] = doi.text\n",
    "    \n",
    "        info_list.append(info_dict)\n",
    "    \n",
    "    #print(info_list)"
   ]
  },
  {
   "cell_type": "code",
   "execution_count": 20,
   "metadata": {},
   "outputs": [
    {
     "data": {
      "text/plain": [
       "(list, 6000)"
      ]
     },
     "execution_count": 20,
     "metadata": {},
     "output_type": "execute_result"
    }
   ],
   "source": [
    "type(info_list), len(info_list)"
   ]
  },
  {
   "cell_type": "code",
   "execution_count": 25,
   "metadata": {},
   "outputs": [],
   "source": [
    "DOI =  []\n",
    "Title = []\n",
    "Pub_name = []\n",
    "\n",
    "for i in range(6000):\n",
    "    DOI.append(info_list[i]['DOI'])\n",
    "    Title.append(info_list[i]['Title'])\n",
    "    Pub_name.append(info_list[i]['Pub_Name'])\n",
    "      \n",
    "    "
   ]
  },
  {
   "cell_type": "code",
   "execution_count": 26,
   "metadata": {},
   "outputs": [
    {
     "data": {
      "text/html": [
       "<div>\n",
       "<style scoped>\n",
       "    .dataframe tbody tr th:only-of-type {\n",
       "        vertical-align: middle;\n",
       "    }\n",
       "\n",
       "    .dataframe tbody tr th {\n",
       "        vertical-align: top;\n",
       "    }\n",
       "\n",
       "    .dataframe thead th {\n",
       "        text-align: right;\n",
       "    }\n",
       "</style>\n",
       "<table border=\"1\" class=\"dataframe\">\n",
       "  <thead>\n",
       "    <tr style=\"text-align: right;\">\n",
       "      <th></th>\n",
       "      <th>Title</th>\n",
       "      <th>Pub_name</th>\n",
       "      <th>DOI</th>\n",
       "    </tr>\n",
       "  </thead>\n",
       "  <tbody>\n",
       "    <tr>\n",
       "      <th>0</th>\n",
       "      <td>Hydrogen and alcohols production by &lt;ce:italic...</td>\n",
       "      <td>Journal of CO2 Utilization</td>\n",
       "      <td>10.1016/j.jcou.2022.101914</td>\n",
       "    </tr>\n",
       "    <tr>\n",
       "      <th>1</th>\n",
       "      <td>Photocatalytic hydrogen production from alcoho...</td>\n",
       "      <td>Journal of Photochemistry and Photobiology A: ...</td>\n",
       "      <td>10.1016/j.jphotochem.2021.113726</td>\n",
       "    </tr>\n",
       "    <tr>\n",
       "      <th>2</th>\n",
       "      <td>Homogeneous first-row transition metal catalys...</td>\n",
       "      <td>Tetrahedron</td>\n",
       "      <td>10.1016/j.tet.2021.132473</td>\n",
       "    </tr>\n",
       "    <tr>\n",
       "      <th>3</th>\n",
       "      <td>Selective photoelectrocatalytic tuning of benz...</td>\n",
       "      <td>Applied Catalysis B: Environmental</td>\n",
       "      <td>10.1016/j.apcatb.2020.119868</td>\n",
       "    </tr>\n",
       "    <tr>\n",
       "      <th>4</th>\n",
       "      <td>Light alcohols reforming towards renewable hyd...</td>\n",
       "      <td>Renewable and Sustainable Energy Reviews</td>\n",
       "      <td>10.1016/j.rser.2020.110523</td>\n",
       "    </tr>\n",
       "  </tbody>\n",
       "</table>\n",
       "</div>"
      ],
      "text/plain": [
       "                                               Title  \\\n",
       "0  Hydrogen and alcohols production by <ce:italic...   \n",
       "1  Photocatalytic hydrogen production from alcoho...   \n",
       "2  Homogeneous first-row transition metal catalys...   \n",
       "3  Selective photoelectrocatalytic tuning of benz...   \n",
       "4  Light alcohols reforming towards renewable hyd...   \n",
       "\n",
       "                                            Pub_name  \\\n",
       "0                         Journal of CO2 Utilization   \n",
       "1  Journal of Photochemistry and Photobiology A: ...   \n",
       "2                                        Tetrahedron   \n",
       "3                 Applied Catalysis B: Environmental   \n",
       "4           Renewable and Sustainable Energy Reviews   \n",
       "\n",
       "                                DOI  \n",
       "0        10.1016/j.jcou.2022.101914  \n",
       "1  10.1016/j.jphotochem.2021.113726  \n",
       "2         10.1016/j.tet.2021.132473  \n",
       "3      10.1016/j.apcatb.2020.119868  \n",
       "4        10.1016/j.rser.2020.110523  "
      ]
     },
     "execution_count": 26,
     "metadata": {},
     "output_type": "execute_result"
    }
   ],
   "source": [
    "df =  pd.DataFrame()\n",
    "df['Title'] =  Title\n",
    "df['Pub_name'] = Pub_name\n",
    "df['DOI'] = DOI\n",
    "\n",
    "df.head()"
   ]
  },
  {
   "cell_type": "code",
   "execution_count": 27,
   "metadata": {},
   "outputs": [],
   "source": [
    "#Create string1 and string2 to join doi with institoken to make a single URL\n",
    "string1 = \"https://api.elsevier.com/content/article/doi/\" \n",
    "string2 = \"?apiKey=2dc442325fc67f2f275ec3157ef8df65&insttoken=6beb1f6c29d85f50029bf11c8de94d1b\"\n",
    "\n",
    "#Access every DOI in the previous file and append the new URL to another column\n",
    "df['Link'] = df['DOI'].apply(lambda x: string1 + str(x) + string2)\n",
    "\n",
    "df.head()"
   ]
  },
  {
   "cell_type": "code",
   "execution_count": 28,
   "metadata": {},
   "outputs": [
    {
     "data": {
      "text/html": [
       "<div>\n",
       "<style scoped>\n",
       "    .dataframe tbody tr th:only-of-type {\n",
       "        vertical-align: middle;\n",
       "    }\n",
       "\n",
       "    .dataframe tbody tr th {\n",
       "        vertical-align: top;\n",
       "    }\n",
       "\n",
       "    .dataframe thead th {\n",
       "        text-align: right;\n",
       "    }\n",
       "</style>\n",
       "<table border=\"1\" class=\"dataframe\">\n",
       "  <thead>\n",
       "    <tr style=\"text-align: right;\">\n",
       "      <th></th>\n",
       "      <th>Title</th>\n",
       "      <th>Pub_name</th>\n",
       "      <th>DOI</th>\n",
       "      <th>Link</th>\n",
       "    </tr>\n",
       "  </thead>\n",
       "  <tbody>\n",
       "    <tr>\n",
       "      <th>0</th>\n",
       "      <td>Hydrogen and alcohols production by &lt;ce:italic...</td>\n",
       "      <td>Journal of CO2 Utilization</td>\n",
       "      <td>10.1016/j.jcou.2022.101914</td>\n",
       "      <td>https://api.elsevier.com/content/article/doi/1...</td>\n",
       "    </tr>\n",
       "    <tr>\n",
       "      <th>1</th>\n",
       "      <td>Photocatalytic hydrogen production from alcoho...</td>\n",
       "      <td>Journal of Photochemistry and Photobiology A: ...</td>\n",
       "      <td>10.1016/j.jphotochem.2021.113726</td>\n",
       "      <td>https://api.elsevier.com/content/article/doi/1...</td>\n",
       "    </tr>\n",
       "    <tr>\n",
       "      <th>2</th>\n",
       "      <td>Homogeneous first-row transition metal catalys...</td>\n",
       "      <td>Tetrahedron</td>\n",
       "      <td>10.1016/j.tet.2021.132473</td>\n",
       "      <td>https://api.elsevier.com/content/article/doi/1...</td>\n",
       "    </tr>\n",
       "    <tr>\n",
       "      <th>3</th>\n",
       "      <td>Selective photoelectrocatalytic tuning of benz...</td>\n",
       "      <td>Applied Catalysis B: Environmental</td>\n",
       "      <td>10.1016/j.apcatb.2020.119868</td>\n",
       "      <td>https://api.elsevier.com/content/article/doi/1...</td>\n",
       "    </tr>\n",
       "    <tr>\n",
       "      <th>4</th>\n",
       "      <td>Light alcohols reforming towards renewable hyd...</td>\n",
       "      <td>Renewable and Sustainable Energy Reviews</td>\n",
       "      <td>10.1016/j.rser.2020.110523</td>\n",
       "      <td>https://api.elsevier.com/content/article/doi/1...</td>\n",
       "    </tr>\n",
       "  </tbody>\n",
       "</table>\n",
       "</div>"
      ],
      "text/plain": [
       "                                               Title  \\\n",
       "0  Hydrogen and alcohols production by <ce:italic...   \n",
       "1  Photocatalytic hydrogen production from alcoho...   \n",
       "2  Homogeneous first-row transition metal catalys...   \n",
       "3  Selective photoelectrocatalytic tuning of benz...   \n",
       "4  Light alcohols reforming towards renewable hyd...   \n",
       "\n",
       "                                            Pub_name  \\\n",
       "0                         Journal of CO2 Utilization   \n",
       "1  Journal of Photochemistry and Photobiology A: ...   \n",
       "2                                        Tetrahedron   \n",
       "3                 Applied Catalysis B: Environmental   \n",
       "4           Renewable and Sustainable Energy Reviews   \n",
       "\n",
       "                                DOI  \\\n",
       "0        10.1016/j.jcou.2022.101914   \n",
       "1  10.1016/j.jphotochem.2021.113726   \n",
       "2         10.1016/j.tet.2021.132473   \n",
       "3      10.1016/j.apcatb.2020.119868   \n",
       "4        10.1016/j.rser.2020.110523   \n",
       "\n",
       "                                                Link  \n",
       "0  https://api.elsevier.com/content/article/doi/1...  \n",
       "1  https://api.elsevier.com/content/article/doi/1...  \n",
       "2  https://api.elsevier.com/content/article/doi/1...  \n",
       "3  https://api.elsevier.com/content/article/doi/1...  \n",
       "4  https://api.elsevier.com/content/article/doi/1...  "
      ]
     },
     "execution_count": 28,
     "metadata": {},
     "output_type": "execute_result"
    }
   ],
   "source": []
  },
  {
   "cell_type": "code",
   "execution_count": 29,
   "metadata": {},
   "outputs": [],
   "source": [
    "#Save the combined abstracts in another CSV file\n",
    "df.to_csv(r'C:\\Users\\Admin\\OneDrive - IIT Delhi\\CPCB\\PROF. HARI\\Jupyter_file\\Ex_scibert\\doi_6000_withlink.csv', index=False)"
   ]
  },
  {
   "cell_type": "code",
   "execution_count": null,
   "metadata": {},
   "outputs": [],
   "source": []
  }
 ],
 "metadata": {
  "kernelspec": {
   "display_name": "Python 3",
   "language": "python",
   "name": "python3"
  },
  "language_info": {
   "codemirror_mode": {
    "name": "ipython",
    "version": 3
   },
   "file_extension": ".py",
   "mimetype": "text/x-python",
   "name": "python",
   "nbconvert_exporter": "python",
   "pygments_lexer": "ipython3",
   "version": "3.8.8"
  }
 },
 "nbformat": 4,
 "nbformat_minor": 4
}
