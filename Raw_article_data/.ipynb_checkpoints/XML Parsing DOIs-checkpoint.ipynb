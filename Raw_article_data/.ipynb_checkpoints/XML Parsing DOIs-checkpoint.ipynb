{
 "cells": [
  {
   "cell_type": "markdown",
   "metadata": {},
   "source": [
    "## Importing Libraries"
   ]
  },
  {
   "cell_type": "code",
   "execution_count": null,
   "metadata": {},
   "outputs": [],
   "source": [
    "#Elsevier Libraries\n",
    "from elsapy.elsclient import ElsClient\n",
    "from elsapy.elsprofile import ElsAuthor, ElsAffil\n",
    "from elsapy.elsdoc import FullDoc, AbsDoc\n",
    "from elsapy.elssearch import ElsSearch\n",
    "\n",
    "#Libraries for URL access\n",
    "import json\n",
    "import csv\n",
    "import pprint\n",
    "import requests\n",
    "import xmltodict\n",
    "import urllib3\n",
    "import numpy as np\n",
    "\n",
    "#Import warnings library\n",
    "import warnings\n",
    "warnings.filterwarnings(\"ignore\")"
   ]
  },
  {
   "cell_type": "code",
   "execution_count": null,
   "metadata": {},
   "outputs": [],
   "source": [
    "#xml.etree.ElementTree — The ElementTree XML API\n",
    "import xml.etree.ElementTree as ET"
   ]
  },
  {
   "cell_type": "code",
   "execution_count": null,
   "metadata": {},
   "outputs": [],
   "source": [
    "info_list = [] #Creating an empty list to store the  info\n",
    "#Rerunning this will delete the data that will be stored further\n",
    "#Run only once"
   ]
  },
  {
   "cell_type": "code",
   "execution_count": null,
   "metadata": {},
   "outputs": [],
   "source": [
    "#Create a num array of 0 to 5900 spaces 100 apart per page. Each page of Search returns 100 entries until 6000 is reached\n",
    "num = np.linspace(0, 5900, 60, dtype = int)\n",
    "print(num)\n",
    "#Maximum of 6000 searches are returned on calling the ElsSearch API"
   ]
  },
  {
   "cell_type": "markdown",
   "metadata": {},
   "source": [
    "## Accessing the Links - API Extraction"
   ]
  },
  {
   "cell_type": "code",
   "execution_count": null,
   "metadata": {},
   "outputs": [],
   "source": [
    "#Append \"apikey\" and \"insttoken\" as suggest in the ElsSearch document into a config file\n",
    "config = {\n",
    "    \"apikey\": \"2dc442325fc67f2f275ec3157ef8df65\",\n",
    " \"insttoken\": \"6beb1f6c29d85f50029bf11c8de94d1b\"\n",
    "    }\n",
    "\n",
    "client = ElsClient(config['apikey'])\n",
    "client.inst_token = config['insttoken']"
   ]
  },
  {
   "cell_type": "code",
   "execution_count": null,
   "metadata": {},
   "outputs": [],
   "source": [
    "def XML_DOI(link):\n",
    "    \n",
    "    #defining a header's dictionary to pass through requests\n",
    "    headers_dict = {\"X-ELS-APIKey\": \"2dc442325fc67f2f275ec3157ef8df65\", \"X-ELS-Insttoken\": \"6beb1f6c29d85f50029bf11c8de94d1b\", \"Accept\": \"application/xml\"}\n",
    "    \n",
    "    #x takes response of the HTTP request, passes link\n",
    "    x = requests.get(link, headers=headers_dict)\n",
    "    \n",
    "    #Save it as XML file\n",
    "    with open(\"doi.xml\", 'wb') as f:\n",
    "        f.write(x.content)"
   ]
  },
  {
   "cell_type": "code",
   "execution_count": null,
   "metadata": {},
   "outputs": [],
   "source": [
    "link_list = []\n",
    "\n",
    "#Loop to iterate over all papers\n",
    "#UPI query can take many arguments.\n",
    "#start, count, query are a few as name suggests\n",
    "for i in range(0, 60):\n",
    "    \n",
    "    start = \"https://api.elsevier.com/content/search/sciencedirect?\" \n",
    "    count = \"start=\" + str(num[i]) + \"&count=100\"\n",
    "    query = \"&query=hydrogen+production+using+alcohol\"\n",
    "    endapi = \"&apiKey=2dc442325fc67f2f275ec3157ef8df65&insttoken=6beb1f6c29d85f50029bf11c8de94d1b\"\n",
    "    \n",
    "    link = start + count + query # + endapi \n",
    "    #print(link)\n",
    "    link_list.append(link)\n",
    "#subscription = \"&subscribed=true\""
   ]
  },
  {
   "cell_type": "code",
   "execution_count": null,
   "metadata": {},
   "outputs": [],
   "source": [
    "link_list[6]"
   ]
  },
  {
   "cell_type": "markdown",
   "metadata": {},
   "source": [
    "## XML Parsing"
   ]
  },
  {
   "cell_type": "code",
   "execution_count": null,
   "metadata": {},
   "outputs": [],
   "source": [
    "# Call the XML_DOI function\n",
    "for j in range(0, 60):\n",
    "    xmlfile = XML_DOI(link_list[j])\n",
    "    #Read the data\n",
    "    #<?xml version=\"1.0\" encoding=\"UTF-8\"?>\n",
    "    tree = ET.parse(r'C:\\Users\\Admin\\OneDrive - IIT Delhi\\CPCB\\PROF. HARI\\Jupyter_file\\Ex_scibert\\doi.xml')\n",
    "    root = tree.getroot()\n",
    "    for entry in root.findall('{http://www.w3.org/2005/Atom}entry'):\n",
    "    \n",
    "        info_dict = {} #This will create a dictionary where we will store information about the searches\n",
    "    \n",
    "        '''\n",
    "        CHECK CODE\n",
    "        url = entry.find('{http://prismstandard.org/namespaces/basic/2.0/}url').text\n",
    "        title = entry.find('{http://purl.org/dc/elements/1.1/}title').text\n",
    "        pub_name = entry.find('{http://prismstandard.org/namespaces/basic/2.0/}publicationName').text\n",
    "        doi = entry.find('{http://prismstandard.org/namespaces/basic/2.0/}doi').text\n",
    "        #description = entry.find('{http://purl.org/dc/elements/1.1/}description').text\n",
    "        print(url, title, pub_name, doi)\n",
    "        print('\\n')\n",
    "        \n",
    "        '''\n",
    "    \n",
    "        info_dict['URL'] = entry.find('{http://prismstandard.org/namespaces/basic/2.0/}url').text\n",
    "        info_dict['Title'] = entry.find('{http://purl.org/dc/elements/1.1/}title').text\n",
    "        info_dict['Pub_Name'] = entry.find('{http://prismstandard.org/namespaces/basic/2.0/}publicationName').text\n",
    "        doi = entry.find('{http://prismstandard.org/namespaces/basic/2.0/}doi')\n",
    "        if doi is None:\n",
    "            info_dict['DOI'] = None\n",
    "        else:\n",
    "            info_dict['DOI'] = doi.text\n",
    "    \n",
    "        info_list.append(info_dict)\n",
    "    \n",
    "    #print(info_list)"
   ]
  },
  {
   "cell_type": "code",
   "execution_count": null,
   "metadata": {},
   "outputs": [],
   "source": [
    "type(info_list), len(info_list)"
   ]
  },
  {
   "cell_type": "code",
   "execution_count": null,
   "metadata": {},
   "outputs": [],
   "source": [
    "DOI =  []\n",
    "Title = []\n",
    "Pub_name = []\n",
    "\n",
    "for i in range(6000):\n",
    "    DOI.append(info_list[i]['DOI'])\n",
    "    Title.append(info_list[i]['Title'])\n",
    "    Pub_name.append(info_list[i]['Pub_Name'])\n",
    "      \n",
    "    "
   ]
  },
  {
   "cell_type": "code",
   "execution_count": null,
   "metadata": {},
   "outputs": [],
   "source": [
    "df =  pd.DataFrame()\n",
    "df['Title'] =  Title\n",
    "df['Pub_name'] = Pub_name\n",
    "df['DOI'] = DOI\n",
    "\n",
    "df.head()"
   ]
  },
  {
   "cell_type": "code",
   "execution_count": null,
   "metadata": {},
   "outputs": [],
   "source": [
    "#Create string1 and string2 to join doi with institoken to make a single URL\n",
    "string1 = \"https://api.elsevier.com/content/article/doi/\" \n",
    "string2 = \"?apiKey=2dc442325fc67f2f275ec3157ef8df65&insttoken=6beb1f6c29d85f50029bf11c8de94d1b\"\n",
    "\n",
    "#Access every DOI in the previous file and append the new URL to another column\n",
    "df['Link'] = df['DOI'].apply(lambda x: string1 + str(x) + string2)\n",
    "\n",
    "df.head()"
   ]
  },
  {
   "cell_type": "code",
   "execution_count": null,
   "metadata": {},
   "outputs": [],
   "source": []
  },
  {
   "cell_type": "code",
   "execution_count": null,
   "metadata": {},
   "outputs": [],
   "source": [
    "#Save the combined abstracts in another CSV file\n",
    "df.to_csv(r'C:\\Users\\Admin\\OneDrive - IIT Delhi\\CPCB\\PROF. HARI\\Jupyter_file\\Ex_scibert\\doi_6000_withlink.csv', index=False)"
   ]
  },
  {
   "cell_type": "code",
   "execution_count": null,
   "metadata": {},
   "outputs": [],
   "source": []
  }
 ],
 "metadata": {
  "kernelspec": {
   "display_name": "Python 3",
   "language": "python",
   "name": "python3"
  },
  "language_info": {
   "codemirror_mode": {
    "name": "ipython",
    "version": 3
   },
   "file_extension": ".py",
   "mimetype": "text/x-python",
   "name": "python",
   "nbconvert_exporter": "python",
   "pygments_lexer": "ipython3",
   "version": "3.8.8"
  }
 },
 "nbformat": 4,
 "nbformat_minor": 4
}
