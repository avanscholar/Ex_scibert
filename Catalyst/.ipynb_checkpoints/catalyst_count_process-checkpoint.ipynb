{
 "cells": [
  {
   "cell_type": "code",
   "execution_count": null,
   "id": "5bfbd0c0",
   "metadata": {},
   "outputs": [],
   "source": [
    "#import libraries\n",
    "import pandas as pd\n",
    "import numpy as np\n",
    "\n",
    "#visualization library\n",
    "import matplotlib.pyplot as plt\n",
    "from pylab import *\n",
    "from matplotlib import rc\n",
    "\n",
    "#Utilize the wordcloud library\n",
    "from wordcloud import WordCloud\n",
    "\n",
    "#Import the warning library\n",
    "import warnings\n",
    "warnings.filterwarnings(\"ignore\")"
   ]
  },
  {
   "cell_type": "code",
   "execution_count": null,
   "id": "dc526e54",
   "metadata": {},
   "outputs": [],
   "source": [
    "#Access the data of catalyst-process content sentences\n",
    "df_cat_pro  = pd.read_csv(r'C:\\Users\\kumar\\OneDrive - IIT Delhi\\CPCB\\PROF. HARI\\data_final\\old_data\\df_cat_pro.csv')\n",
    "#Delete the unwanted columns\n",
    "df_cat_pro  = df_cat_pro.drop(['Unnamed: 0','process' ], axis = 1)\n",
    "#Delete the duplicates entries\n",
    "df_cat_pro  = df_cat_pro.drop_duplicates(subset='sentence', keep='first')\n",
    "#Final shape of data frame\n",
    "print('shape', df_cat_pro.shape[0])\n",
    "#Shows the first 5 rows\n",
    "df_cat_pro.head()"
   ]
  },
  {
   "cell_type": "code",
   "execution_count": null,
   "id": "5275dd1c",
   "metadata": {},
   "outputs": [],
   "source": [
    "#Access the data of catalyst-process content sentences\n",
    "df_cat  = pd.read_csv(r'C:\\Users\\kumar\\OneDrive - IIT Delhi\\CPCB\\PROF. HARI\\data_final\\old_data\\df_cat.csv')\n",
    "#Delete the unwanted columns\n",
    "df_cat  = df_cat.drop(['Unnamed: 0'], axis = 1)\n",
    "#Delete the duplicates entries\n",
    "df_cat  = df_cat.drop_duplicates(subset='sentence', keep='first')\n",
    "#Final shape of data frame\n",
    "print('shape', df_cat.shape[0])\n",
    "#Shows the first 5 rows\n",
    "df_cat.head()"
   ]
  },
  {
   "cell_type": "code",
   "execution_count": null,
   "id": "e39bf389",
   "metadata": {},
   "outputs": [],
   "source": [
    "##Concatating the two data frames\n",
    "df_final_cat =  pd.concat([df_cat, df_cat_pro], axis = 0).reset_index(drop=True)\n",
    "#Printing the number of final data points\n",
    "print(\"Number of data points:\",df_final_cat.shape[0])"
   ]
  },
  {
   "cell_type": "code",
   "execution_count": null,
   "id": "5d422125",
   "metadata": {},
   "outputs": [],
   "source": [
    "#define the function for get the name of chemical entities and their frequency\n",
    "def get_chemical_entry_count(column, size):\n",
    "    catal = []\n",
    "    #Remove the all punctution\n",
    "    catalyst_column= column.str.replace('[^\\w\\s]','')\n",
    "    for i in range(size):\n",
    "        cat_list = catalyst_column[i].split(\" \")\n",
    "        for j in range(len(cat_list)):\n",
    "            #Appending the catalyst\n",
    "            catal.append(cat_list[j])\n",
    "            #frequency of existence\n",
    "            unique, frequency = np.unique(np.array(catal), return_counts = True)\n",
    "            #Making data frame of uniqueness and frequency\n",
    "            df_unique_counts = pd.DataFrame({'section name' : unique, 'frequency' : frequency})\n",
    "            \n",
    "    return df_unique_counts"
   ]
  },
  {
   "cell_type": "code",
   "execution_count": null,
   "id": "b3174d9e",
   "metadata": {},
   "outputs": [],
   "source": [
    "#Call the defined function\n",
    "df_cat_freq = get_chemical_entry_count(df_final_cat['catalyst'], df_final_cat.shape[0])"
   ]
  },
  {
   "cell_type": "code",
   "execution_count": null,
   "id": "7cc6439a",
   "metadata": {},
   "outputs": [],
   "source": [
    "#Sorting the data frame based on frequency available\n",
    "sort = df_cat_freq.sort_values(\"frequency\", axis = 0, ascending = False).reset_index(drop = True)\n",
    "#print(Number of unique chemicals)\n",
    "print('Number of unique chemicals:', sort.shape[0])\n",
    "#Shows the first 5 rows\n",
    "sort.head()"
   ]
  },
  {
   "cell_type": "code",
   "execution_count": null,
   "id": "8943f626",
   "metadata": {},
   "outputs": [],
   "source": [
    "#Save the data frame\n",
    "sort.to_csv(r'C:\\Users\\kumar\\OneDrive - IIT Delhi\\CPCB\\PROF. HARI\\data_final\\catalyst\\catalys_entit_final.csv')"
   ]
  },
  {
   "cell_type": "markdown",
   "id": "1585b2af",
   "metadata": {},
   "source": [
    "**Most probably exist chemicals**"
   ]
  },
  {
   "cell_type": "code",
   "execution_count": null,
   "id": "f8f637c7",
   "metadata": {},
   "outputs": [],
   "source": [
    "#data loaded of catalyst-process file\n",
    "df_list_catalyst  = pd.read_csv(r'C:\\Users\\kumar\\OneDrive - IIT Delhi\\CPCB\\PROF. HARI\\data_final\\catalyst\\catalys_entit_final.csv')\n",
    "#Delete the unwanted columns\n",
    "df_list_catalyst  = df_list_catalyst.drop(['Unnamed: 0', 'Unnamed: 3', '7738'], axis = 1)\n",
    "#Shows the first 5 rows\n",
    "df_list_catalyst.head()"
   ]
  },
  {
   "cell_type": "code",
   "execution_count": null,
   "id": "966b1187",
   "metadata": {},
   "outputs": [],
   "source": [
    "#A zipf line plot is shown\n",
    "counts = df_list_catalyst.frequency\n",
    "tokens = df_list_catalyst['section name']\n",
    "\n",
    "ranks = np.arange(1, len(counts)+1)\n",
    "indices = argsort(-counts)\n",
    "frequencies = counts[indices]\n",
    "\n",
    "plt.figure(figsize=(10,8))\n",
    "plt.ylim(1,10**3)\n",
    "plt.xlim(1,10**3)\n",
    "loglog(ranks, frequencies, marker=\".\")\n",
    "xlabel(\"Rank of catalyst\",fontweight='bold', fontsize=16)\n",
    "ylabel(\"Absolute frequency of catalyst\",fontweight='bold', fontsize=16)\n",
    "\n",
    "\n",
    "plt.rcParams['axes.linewidth'] = 2\n",
    "rc('font', weight='bold')\n",
    "\n",
    "plt.tick_params(axis=\"x\", direction=\"in\",width=2)\n",
    "plt.tick_params(axis=\"y\", direction=\"in\", width=2)\n",
    "grid(True)\n",
    "for n in list(logspace(-0.5, log10(len(counts)-2), 25).astype(int)):\n",
    "    dummy = text(ranks[n], frequencies[n], \" \" + tokens[indices[n]], \n",
    "                 verticalalignment=\"bottom\",\n",
    "                 horizontalalignment=\"left\", fontweight='bold',\n",
    "                 fontsize=12)\n",
    "#Save the plot \n",
    "plt.savefig(r'C:\\Users\\kumar\\OneDrive - IIT Delhi\\CPCB\\PROF. HARI\\data_final\\pictures\\line_plots_catalyst.pdf', dpi=5000)\n",
    "plt.show()"
   ]
  },
  {
   "cell_type": "code",
   "execution_count": null,
   "id": "aefc3652",
   "metadata": {},
   "outputs": [],
   "source": [
    "#A bar plot is done here\n",
    "y_pos = np.arange(df_list_catalyst.shape[0])\n",
    "plt.figure(figsize=(10,8))\n",
    "s = 1\n",
    "expected_zipf = [df_list_catalyst.sort_values(by='frequency', ascending=False)['frequency'][0]/(i+1)**s for i in y_pos]\n",
    "plt.bar(y_pos, df_list_catalyst.sort_values(by='frequency', ascending=False)['frequency'][:df_list_catalyst.shape[0]], align='center', log=True, alpha=0.8)\n",
    "\n",
    "plt.plot(y_pos, expected_zipf, color='r', linestyle='--',linewidth=2,alpha=0.5)\n",
    "plt.ylabel('log(frequency)',fontweight='bold', fontsize=16)\n",
    "plt.xlabel('Rank of catalyst' ,fontweight='bold', fontsize=16)\n",
    "\n",
    "plt.rcParams['axes.linewidth'] = 2\n",
    "\n",
    "plt.tick_params(axis=\"x\", direction=\"in\",width=2)\n",
    "plt.tick_params(axis=\"y\", direction=\"in\", width=2)\n",
    "\n",
    "rc('font', weight='bold')\n",
    "\n",
    "plt.tick_params(bottom=True, top=True, left=True, right=True)\n",
    "plt.tick_params(labelbottom=True, labeltop=False, labelleft=True, labelright=False)\n",
    "\n",
    "#Save the plot \n",
    "plt.savefig(r'C:\\Users\\kumar\\OneDrive - IIT Delhi\\CPCB\\PROF. HARI\\data_final\\pictures\\hist_plots_catalyst.pdf', dpi=5000)\n",
    "plt.show()"
   ]
  },
  {
   "cell_type": "code",
   "execution_count": null,
   "id": "d1e57c2e",
   "metadata": {},
   "outputs": [],
   "source": [
    "#Making of wordcoud available catalyst \n",
    "\n",
    "# Joining all the processed lines together. Whole PDF\n",
    "long_string = ','.join([str(i) for i in list(df_list_catalyst['section name'].values)])\n",
    "\n",
    "# WordCloud object\n",
    "wordcloud = WordCloud(background_color=\"white\", max_words=900, contour_width=7, contour_color='steelblue')\n",
    "wordcloud.generate(long_string)\n",
    "\n",
    "# Visualizing\n",
    "wordcloud.to_image()\n",
    "\n",
    "plt.figure(figsize=(10,8))\n",
    "plt.imshow(wordcloud, interpolation=\"bilinear\")\n",
    "plt.axis(\"off\")\n",
    "#plt.savefig(r'C:\\Users\\kumar\\OneDrive - IIT Delhi\\CPCB\\PROF. HARI\\data_final\\pictures\\wordcloud_catalyst1.pdf', dpi=500)\n",
    "plt.show()"
   ]
  }
 ],
 "metadata": {
  "kernelspec": {
   "display_name": "Python 3",
   "language": "python",
   "name": "python3"
  },
  "language_info": {
   "codemirror_mode": {
    "name": "ipython",
    "version": 3
   },
   "file_extension": ".py",
   "mimetype": "text/x-python",
   "name": "python",
   "nbconvert_exporter": "python",
   "pygments_lexer": "ipython3",
   "version": "3.8.8"
  }
 },
 "nbformat": 4,
 "nbformat_minor": 5
}
